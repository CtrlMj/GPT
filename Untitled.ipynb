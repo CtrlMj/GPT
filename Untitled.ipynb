{
 "cells": [
  {
   "cell_type": "code",
   "execution_count": 1,
   "id": "53b7efca-0433-430f-a71d-3f17cf5c3f5f",
   "metadata": {},
   "outputs": [],
   "source": [
    "import ray"
   ]
  },
  {
   "cell_type": "code",
   "execution_count": 2,
   "id": "8bea54f1-4e99-4237-a9ba-cfc751a5dc93",
   "metadata": {
    "scrolled": true
   },
   "outputs": [
    {
     "name": "stderr",
     "output_type": "stream",
     "text": [
      "2024-11-30 13:54:57,638\tINFO worker.py:1810 -- Started a local Ray instance. View the dashboard at \u001b[1m\u001b[32m127.0.0.1:8265 \u001b[39m\u001b[22m\n"
     ]
    },
    {
     "data": {
      "application/vnd.jupyter.widget-view+json": {
       "model_id": "ce403bf02cb5488a8451ca34ee511a20",
       "version_major": 2,
       "version_minor": 0
      },
      "text/html": [
       "<div class=\"lm-Widget p-Widget lm-Panel p-Panel jp-Cell-outputWrapper\">\n",
       "    <div style=\"margin-left: 50px;display: flex;flex-direction: row;align-items: center\">\n",
       "        <div class=\"jp-RenderedHTMLCommon\" style=\"display: flex; flex-direction: row;\">\n",
       "  <svg viewBox=\"0 0 567 224\" fill=\"none\" xmlns=\"http://www.w3.org/2000/svg\" style=\"height: 3em;\">\n",
       "    <g clip-path=\"url(#clip0_4338_178347)\">\n",
       "        <path d=\"M341.29 165.561H355.29L330.13 129.051C345.63 123.991 354.21 112.051 354.21 94.2307C354.21 71.3707 338.72 58.1807 311.88 58.1807H271V165.561H283.27V131.661H311.8C314.25 131.661 316.71 131.501 319.01 131.351L341.25 165.561H341.29ZM283.29 119.851V70.0007H311.82C331.3 70.0007 342.34 78.2907 342.34 94.5507C342.34 111.271 331.34 119.861 311.82 119.861L283.29 119.851ZM451.4 138.411L463.4 165.561H476.74L428.74 58.1807H416L367.83 165.561H380.83L392.83 138.411H451.4ZM446.19 126.601H398L422 72.1407L446.24 126.601H446.19ZM526.11 128.741L566.91 58.1807H554.35L519.99 114.181L485.17 58.1807H472.44L514.01 129.181V165.541H526.13V128.741H526.11Z\" fill=\"var(--jp-ui-font-color0)\"/>\n",
       "        <path d=\"M82.35 104.44C84.0187 97.8827 87.8248 92.0678 93.1671 87.9146C98.5094 83.7614 105.083 81.5067 111.85 81.5067C118.617 81.5067 125.191 83.7614 130.533 87.9146C135.875 92.0678 139.681 97.8827 141.35 104.44H163.75C164.476 101.562 165.622 98.8057 167.15 96.2605L127.45 56.5605C121.071 60.3522 113.526 61.6823 106.235 60.3005C98.9443 58.9187 92.4094 54.9203 87.8602 49.0574C83.3109 43.1946 81.0609 35.8714 81.5332 28.4656C82.0056 21.0599 85.1679 14.0819 90.4252 8.8446C95.6824 3.60726 102.672 0.471508 110.08 0.0272655C117.487 -0.416977 124.802 1.86091 130.647 6.4324C136.493 11.0039 140.467 17.5539 141.821 24.8501C143.175 32.1463 141.816 39.6859 138 46.0505L177.69 85.7505C182.31 82.9877 187.58 81.4995 192.962 81.4375C198.345 81.3755 203.648 82.742 208.33 85.3976C213.012 88.0532 216.907 91.9029 219.616 96.5544C222.326 101.206 223.753 106.492 223.753 111.875C223.753 117.258 222.326 122.545 219.616 127.197C216.907 131.848 213.012 135.698 208.33 138.353C203.648 141.009 198.345 142.375 192.962 142.313C187.58 142.251 182.31 140.763 177.69 138L138 177.7C141.808 184.071 143.155 191.614 141.79 198.91C140.424 206.205 136.44 212.75 130.585 217.313C124.731 221.875 117.412 224.141 110.004 223.683C102.596 223.226 95.6103 220.077 90.3621 214.828C85.1139 209.58 81.9647 202.595 81.5072 195.187C81.0497 187.779 83.3154 180.459 87.878 174.605C92.4405 168.751 98.9853 164.766 106.281 163.401C113.576 162.035 121.119 163.383 127.49 167.19L167.19 127.49C165.664 124.941 164.518 122.182 163.79 119.3H141.39C139.721 125.858 135.915 131.673 130.573 135.826C125.231 139.98 118.657 142.234 111.89 142.234C105.123 142.234 98.5494 139.98 93.2071 135.826C87.8648 131.673 84.0587 125.858 82.39 119.3H60C58.1878 126.495 53.8086 132.78 47.6863 136.971C41.5641 141.163 34.1211 142.972 26.7579 142.059C19.3947 141.146 12.6191 137.574 7.70605 132.014C2.79302 126.454 0.0813599 119.29 0.0813599 111.87C0.0813599 104.451 2.79302 97.2871 7.70605 91.7272C12.6191 86.1673 19.3947 82.5947 26.7579 81.6817C34.1211 80.7686 41.5641 82.5781 47.6863 86.7696C53.8086 90.9611 58.1878 97.2456 60 104.44H82.35ZM100.86 204.32C103.407 206.868 106.759 208.453 110.345 208.806C113.93 209.159 117.527 208.258 120.522 206.256C123.517 204.254 125.725 201.276 126.771 197.828C127.816 194.38 127.633 190.677 126.253 187.349C124.874 184.021 122.383 181.274 119.205 179.577C116.027 177.88 112.359 177.337 108.826 178.042C105.293 178.746 102.113 180.654 99.8291 183.44C97.5451 186.226 96.2979 189.718 96.3 193.32C96.2985 195.364 96.7006 197.388 97.4831 199.275C98.2656 201.163 99.4132 202.877 100.86 204.32ZM204.32 122.88C206.868 120.333 208.453 116.981 208.806 113.396C209.159 109.811 208.258 106.214 206.256 103.219C204.254 100.223 201.275 98.0151 197.827 96.97C194.38 95.9249 190.676 96.1077 187.348 97.4873C184.02 98.8669 181.274 101.358 179.577 104.536C177.879 107.714 177.337 111.382 178.041 114.915C178.746 118.448 180.653 121.627 183.439 123.911C186.226 126.195 189.717 127.443 193.32 127.44C195.364 127.443 197.388 127.042 199.275 126.259C201.163 125.476 202.878 124.328 204.32 122.88ZM122.88 19.4205C120.333 16.8729 116.981 15.2876 113.395 14.9347C109.81 14.5817 106.213 15.483 103.218 17.4849C100.223 19.4868 98.0146 22.4654 96.9696 25.9131C95.9245 29.3608 96.1073 33.0642 97.4869 36.3922C98.8665 39.7202 101.358 42.4668 104.535 44.1639C107.713 45.861 111.381 46.4036 114.914 45.6992C118.447 44.9949 121.627 43.0871 123.911 40.301C126.195 37.515 127.442 34.0231 127.44 30.4205C127.44 28.3772 127.038 26.3539 126.255 24.4664C125.473 22.5788 124.326 20.8642 122.88 19.4205ZM19.42 100.86C16.8725 103.408 15.2872 106.76 14.9342 110.345C14.5813 113.93 15.4826 117.527 17.4844 120.522C19.4863 123.518 22.4649 125.726 25.9127 126.771C29.3604 127.816 33.0638 127.633 36.3918 126.254C39.7198 124.874 42.4664 122.383 44.1635 119.205C45.8606 116.027 46.4032 112.359 45.6988 108.826C44.9944 105.293 43.0866 102.114 40.3006 99.8296C37.5145 97.5455 34.0227 96.2983 30.42 96.3005C26.2938 96.3018 22.337 97.9421 19.42 100.86ZM100.86 100.86C98.3125 103.408 96.7272 106.76 96.3742 110.345C96.0213 113.93 96.9226 117.527 98.9244 120.522C100.926 123.518 103.905 125.726 107.353 126.771C110.8 127.816 114.504 127.633 117.832 126.254C121.16 124.874 123.906 122.383 125.604 119.205C127.301 116.027 127.843 112.359 127.139 108.826C126.434 105.293 124.527 102.114 121.741 99.8296C118.955 97.5455 115.463 96.2983 111.86 96.3005C109.817 96.299 107.793 96.701 105.905 97.4835C104.018 98.2661 102.303 99.4136 100.86 100.86Z\" fill=\"#00AEEF\"/>\n",
       "    </g>\n",
       "    <defs>\n",
       "        <clipPath id=\"clip0_4338_178347\">\n",
       "            <rect width=\"566.93\" height=\"223.75\" fill=\"white\"/>\n",
       "        </clipPath>\n",
       "    </defs>\n",
       "  </svg>\n",
       "</div>\n",
       "\n",
       "        <table class=\"jp-RenderedHTMLCommon\" style=\"border-collapse: collapse;color: var(--jp-ui-font-color1);font-size: var(--jp-ui-font-size1);\">\n",
       "    <tr>\n",
       "        <td style=\"text-align: left\"><b>Python version:</b></td>\n",
       "        <td style=\"text-align: left\"><b>3.10.11</b></td>\n",
       "    </tr>\n",
       "    <tr>\n",
       "        <td style=\"text-align: left\"><b>Ray version:</b></td>\n",
       "        <td style=\"text-align: left\"><b>2.39.0</b></td>\n",
       "    </tr>\n",
       "    <tr>\n",
       "    <td style=\"text-align: left\"><b>Dashboard:</b></td>\n",
       "    <td style=\"text-align: left\"><b><a href=\"http://127.0.0.1:8265\" target=\"_blank\">http://127.0.0.1:8265</a></b></td>\n",
       "</tr>\n",
       "\n",
       "</table>\n",
       "\n",
       "    </div>\n",
       "</div>\n"
      ],
      "text/plain": [
       "RayContext(dashboard_url='127.0.0.1:8265', python_version='3.10.11', ray_version='2.39.0', ray_commit='5a6c33536df3f6ed5e987a169b82739bb7e3d80e')"
      ]
     },
     "execution_count": 2,
     "metadata": {},
     "output_type": "execute_result"
    },
    {
     "name": "stderr",
     "output_type": "stream",
     "text": [
      "\u001b[36m(RayTrainWorker pid=48987)\u001b[0m Setting up process group for: env:// [rank=0, world_size=6]\n",
      "\u001b[36m(RayTrainWorker pid=48992)\u001b[0m [W1130 13:59:14.502189000 ProcessGroupGloo.cpp:745] Warning: Unable to resolve hostname to a (local) address. Using the loopback address as fallback. Manually set the network interface to bind to with GLOO_SOCKET_IFNAME. (function operator())\n",
      "\u001b[36m(TorchTrainer pid=48980)\u001b[0m Started distributed worker processes: \n",
      "\u001b[36m(TorchTrainer pid=48980)\u001b[0m - (node_id=9b76a285ba79a64ea7901b9e289e8766f607ee4311dff7dbabf6a011, ip=127.0.0.1, pid=48987) world_rank=0, local_rank=0, node_rank=0\n",
      "\u001b[36m(TorchTrainer pid=48980)\u001b[0m - (node_id=9b76a285ba79a64ea7901b9e289e8766f607ee4311dff7dbabf6a011, ip=127.0.0.1, pid=48989) world_rank=1, local_rank=1, node_rank=0\n",
      "\u001b[36m(TorchTrainer pid=48980)\u001b[0m - (node_id=9b76a285ba79a64ea7901b9e289e8766f607ee4311dff7dbabf6a011, ip=127.0.0.1, pid=48988) world_rank=2, local_rank=2, node_rank=0\n",
      "\u001b[36m(TorchTrainer pid=48980)\u001b[0m - (node_id=9b76a285ba79a64ea7901b9e289e8766f607ee4311dff7dbabf6a011, ip=127.0.0.1, pid=48992) world_rank=3, local_rank=3, node_rank=0\n",
      "\u001b[36m(TorchTrainer pid=48980)\u001b[0m - (node_id=9b76a285ba79a64ea7901b9e289e8766f607ee4311dff7dbabf6a011, ip=127.0.0.1, pid=48990) world_rank=4, local_rank=4, node_rank=0\n",
      "\u001b[36m(TorchTrainer pid=48980)\u001b[0m - (node_id=9b76a285ba79a64ea7901b9e289e8766f607ee4311dff7dbabf6a011, ip=127.0.0.1, pid=48991) world_rank=5, local_rank=5, node_rank=0\n",
      "\u001b[36m(RayTrainWorker pid=48987)\u001b[0m Moving model to device: cpu\n",
      "\u001b[36m(RayTrainWorker pid=48987)\u001b[0m Wrapping provided model in DistributedDataParallel.\n",
      "\u001b[36m(RayTrainWorker pid=48991)\u001b[0m Checkpoint successfully created at: Checkpoint(filesystem=local, path=/Users/majid/Projects/nlp/GPT/ray_results/mlflow/TorchTrainer_2024-11-30_13-58-57/TorchTrainer_f59b5285_1_dropout_p=0.2000,lr=0.0003,n_train_steps=2000_2024-11-30_13-59-04/checkpoint_000000)\n",
      "\u001b[36m(RayTrainWorker pid=48988)\u001b[0m [W1130 13:59:15.193452000 ProcessGroupGloo.cpp:745] Warning: Unable to resolve hostname to a (local) address. Using the loopback address as fallback. Manually set the network interface to bind to with GLOO_SOCKET_IFNAME. (function operator())\u001b[32m [repeated 5x across cluster] (Ray deduplicates logs by default. Set RAY_DEDUP_LOGS=0 to disable log deduplication, or see https://docs.ray.io/en/master/ray-observability/user-guides/configure-logging.html#log-deduplication for more options.)\u001b[0m\n",
      "\u001b[36m(RayTrainWorker pid=48991)\u001b[0m Checkpoint successfully created at: Checkpoint(filesystem=local, path=/Users/majid/Projects/nlp/GPT/ray_results/mlflow/TorchTrainer_2024-11-30_13-58-57/TorchTrainer_f59b5285_1_dropout_p=0.2000,lr=0.0003,n_train_steps=2000_2024-11-30_13-59-04/checkpoint_000001)\u001b[32m [repeated 6x across cluster]\u001b[0m\n",
      "\u001b[36m(RayTrainWorker pid=48991)\u001b[0m Checkpoint successfully created at: Checkpoint(filesystem=local, path=/Users/majid/Projects/nlp/GPT/ray_results/mlflow/TorchTrainer_2024-11-30_13-58-57/TorchTrainer_f59b5285_1_dropout_p=0.2000,lr=0.0003,n_train_steps=2000_2024-11-30_13-59-04/checkpoint_000002)\u001b[32m [repeated 6x across cluster]\u001b[0m\n",
      "\u001b[36m(RayTrainWorker pid=49063)\u001b[0m Setting up process group for: env:// [rank=0, world_size=6]\n",
      "\u001b[36m(RayTrainWorker pid=48988)\u001b[0m Checkpoint successfully created at: Checkpoint(filesystem=local, path=/Users/majid/Projects/nlp/GPT/ray_results/mlflow/TorchTrainer_2024-11-30_13-58-57/TorchTrainer_f59b5285_1_dropout_p=0.2000,lr=0.0003,n_train_steps=2000_2024-11-30_13-59-04/checkpoint_000002)\u001b[32m [repeated 5x across cluster]\u001b[0m\n",
      "\u001b[36m(RayTrainWorker pid=49065)\u001b[0m [W1130 14:01:35.101643000 ProcessGroupGloo.cpp:745] Warning: Unable to resolve hostname to a (local) address. Using the loopback address as fallback. Manually set the network interface to bind to with GLOO_SOCKET_IFNAME. (function operator())\n",
      "\u001b[36m(TorchTrainer pid=49058)\u001b[0m Started distributed worker processes: \n",
      "\u001b[36m(TorchTrainer pid=49058)\u001b[0m - (node_id=9b76a285ba79a64ea7901b9e289e8766f607ee4311dff7dbabf6a011, ip=127.0.0.1, pid=49063) world_rank=0, local_rank=0, node_rank=0\n",
      "\u001b[36m(TorchTrainer pid=49058)\u001b[0m - (node_id=9b76a285ba79a64ea7901b9e289e8766f607ee4311dff7dbabf6a011, ip=127.0.0.1, pid=49066) world_rank=1, local_rank=1, node_rank=0\n",
      "\u001b[36m(TorchTrainer pid=49058)\u001b[0m - (node_id=9b76a285ba79a64ea7901b9e289e8766f607ee4311dff7dbabf6a011, ip=127.0.0.1, pid=49065) world_rank=2, local_rank=2, node_rank=0\n",
      "\u001b[36m(TorchTrainer pid=49058)\u001b[0m - (node_id=9b76a285ba79a64ea7901b9e289e8766f607ee4311dff7dbabf6a011, ip=127.0.0.1, pid=49064) world_rank=3, local_rank=3, node_rank=0\n",
      "\u001b[36m(TorchTrainer pid=49058)\u001b[0m - (node_id=9b76a285ba79a64ea7901b9e289e8766f607ee4311dff7dbabf6a011, ip=127.0.0.1, pid=49067) world_rank=4, local_rank=4, node_rank=0\n",
      "\u001b[36m(TorchTrainer pid=49058)\u001b[0m - (node_id=9b76a285ba79a64ea7901b9e289e8766f607ee4311dff7dbabf6a011, ip=127.0.0.1, pid=49068) world_rank=5, local_rank=5, node_rank=0\n",
      "\u001b[36m(RayTrainWorker pid=49063)\u001b[0m Moving model to device: cpu\n",
      "\u001b[36m(RayTrainWorker pid=49063)\u001b[0m Wrapping provided model in DistributedDataParallel.\n",
      "\u001b[36m(RayTrainWorker pid=49064)\u001b[0m Checkpoint successfully created at: Checkpoint(filesystem=local, path=/Users/majid/Projects/nlp/GPT/ray_results/mlflow/TorchTrainer_2024-11-30_13-58-57/TorchTrainer_e6732f18_2_dropout_p=0.6892,lr=0.0002,n_train_steps=1495_2024-11-30_13-59-06/checkpoint_000000)\n",
      "\u001b[36m(RayTrainWorker pid=49063)\u001b[0m [W1130 14:01:35.691663000 ProcessGroupGloo.cpp:745] Warning: Unable to resolve hostname to a (local) address. Using the loopback address as fallback. Manually set the network interface to bind to with GLOO_SOCKET_IFNAME. (function operator())\u001b[32m [repeated 5x across cluster]\u001b[0m\n",
      "\u001b[36m(RayTrainWorker pid=50454)\u001b[0m Setting up process group for: env:// [rank=0, world_size=6]\n",
      "\u001b[36m(RayTrainWorker pid=50456)\u001b[0m [W1130 15:04:13.692746000 ProcessGroupGloo.cpp:745] Warning: Unable to resolve hostname to a (local) address. Using the loopback address as fallback. Manually set the network interface to bind to with GLOO_SOCKET_IFNAME. (function operator())\n",
      "\u001b[36m(TorchTrainer pid=50448)\u001b[0m Started distributed worker processes: \n",
      "\u001b[36m(TorchTrainer pid=50448)\u001b[0m - (node_id=9b76a285ba79a64ea7901b9e289e8766f607ee4311dff7dbabf6a011, ip=127.0.0.1, pid=50454) world_rank=0, local_rank=0, node_rank=0\n",
      "\u001b[36m(TorchTrainer pid=50448)\u001b[0m - (node_id=9b76a285ba79a64ea7901b9e289e8766f607ee4311dff7dbabf6a011, ip=127.0.0.1, pid=50453) world_rank=1, local_rank=1, node_rank=0\n",
      "\u001b[36m(TorchTrainer pid=50448)\u001b[0m - (node_id=9b76a285ba79a64ea7901b9e289e8766f607ee4311dff7dbabf6a011, ip=127.0.0.1, pid=50455) world_rank=2, local_rank=2, node_rank=0\n",
      "\u001b[36m(TorchTrainer pid=50448)\u001b[0m - (node_id=9b76a285ba79a64ea7901b9e289e8766f607ee4311dff7dbabf6a011, ip=127.0.0.1, pid=50457) world_rank=3, local_rank=3, node_rank=0\n",
      "\u001b[36m(TorchTrainer pid=50448)\u001b[0m - (node_id=9b76a285ba79a64ea7901b9e289e8766f607ee4311dff7dbabf6a011, ip=127.0.0.1, pid=50458) world_rank=4, local_rank=4, node_rank=0\n",
      "\u001b[36m(TorchTrainer pid=50448)\u001b[0m - (node_id=9b76a285ba79a64ea7901b9e289e8766f607ee4311dff7dbabf6a011, ip=127.0.0.1, pid=50456) world_rank=5, local_rank=5, node_rank=0\n",
      "\u001b[36m(RayTrainWorker pid=50454)\u001b[0m Moving model to device: cpu\n",
      "\u001b[36m(RayTrainWorker pid=50454)\u001b[0m Wrapping provided model in DistributedDataParallel.\n",
      "\u001b[36m(RayTrainWorker pid=50457)\u001b[0m Checkpoint successfully created at: Checkpoint(filesystem=local, path=/Users/majid/Projects/nlp/GPT/ray_results/mlflow/TorchTrainer_2024-11-30_15-04-01/TorchTrainer_36803d15_1_dropout_p=0.2000,lr=0.0003,n_train_steps=2000_2024-11-30_15-04-03/checkpoint_000000)\n",
      "\u001b[36m(RayTrainWorker pid=50454)\u001b[0m [W1130 15:04:14.385539000 ProcessGroupGloo.cpp:745] Warning: Unable to resolve hostname to a (local) address. Using the loopback address as fallback. Manually set the network interface to bind to with GLOO_SOCKET_IFNAME. (function operator())\u001b[32m [repeated 5x across cluster]\u001b[0m\n",
      "\u001b[36m(RayTrainWorker pid=50457)\u001b[0m Checkpoint successfully created at: Checkpoint(filesystem=local, path=/Users/majid/Projects/nlp/GPT/ray_results/mlflow/TorchTrainer_2024-11-30_15-04-01/TorchTrainer_36803d15_1_dropout_p=0.2000,lr=0.0003,n_train_steps=2000_2024-11-30_15-04-03/checkpoint_000001)\u001b[32m [repeated 6x across cluster]\u001b[0m\n",
      "\u001b[36m(RayTrainWorker pid=50457)\u001b[0m Checkpoint successfully created at: Checkpoint(filesystem=local, path=/Users/majid/Projects/nlp/GPT/ray_results/mlflow/TorchTrainer_2024-11-30_15-04-01/TorchTrainer_36803d15_1_dropout_p=0.2000,lr=0.0003,n_train_steps=2000_2024-11-30_15-04-03/checkpoint_000002)\u001b[32m [repeated 6x across cluster]\u001b[0m\n",
      "\u001b[36m(RayTrainWorker pid=50526)\u001b[0m Setting up process group for: env:// [rank=0, world_size=6]\n",
      "\u001b[36m(RayTrainWorker pid=50456)\u001b[0m Checkpoint successfully created at: Checkpoint(filesystem=local, path=/Users/majid/Projects/nlp/GPT/ray_results/mlflow/TorchTrainer_2024-11-30_15-04-01/TorchTrainer_36803d15_1_dropout_p=0.2000,lr=0.0003,n_train_steps=2000_2024-11-30_15-04-03/checkpoint_000002)\u001b[32m [repeated 5x across cluster]\u001b[0m\n",
      "\u001b[36m(RayTrainWorker pid=50530)\u001b[0m [W1130 15:06:34.737976000 ProcessGroupGloo.cpp:745] Warning: Unable to resolve hostname to a (local) address. Using the loopback address as fallback. Manually set the network interface to bind to with GLOO_SOCKET_IFNAME. (function operator())\n",
      "\u001b[36m(TorchTrainer pid=50522)\u001b[0m Started distributed worker processes: \n",
      "\u001b[36m(TorchTrainer pid=50522)\u001b[0m - (node_id=9b76a285ba79a64ea7901b9e289e8766f607ee4311dff7dbabf6a011, ip=127.0.0.1, pid=50526) world_rank=0, local_rank=0, node_rank=0\n",
      "\u001b[36m(TorchTrainer pid=50522)\u001b[0m - (node_id=9b76a285ba79a64ea7901b9e289e8766f607ee4311dff7dbabf6a011, ip=127.0.0.1, pid=50529) world_rank=1, local_rank=1, node_rank=0\n",
      "\u001b[36m(TorchTrainer pid=50522)\u001b[0m - (node_id=9b76a285ba79a64ea7901b9e289e8766f607ee4311dff7dbabf6a011, ip=127.0.0.1, pid=50528) world_rank=2, local_rank=2, node_rank=0\n",
      "\u001b[36m(TorchTrainer pid=50522)\u001b[0m - (node_id=9b76a285ba79a64ea7901b9e289e8766f607ee4311dff7dbabf6a011, ip=127.0.0.1, pid=50530) world_rank=3, local_rank=3, node_rank=0\n",
      "\u001b[36m(TorchTrainer pid=50522)\u001b[0m - (node_id=9b76a285ba79a64ea7901b9e289e8766f607ee4311dff7dbabf6a011, ip=127.0.0.1, pid=50525) world_rank=4, local_rank=4, node_rank=0\n",
      "\u001b[36m(TorchTrainer pid=50522)\u001b[0m - (node_id=9b76a285ba79a64ea7901b9e289e8766f607ee4311dff7dbabf6a011, ip=127.0.0.1, pid=50527) world_rank=5, local_rank=5, node_rank=0\n",
      "\u001b[36m(RayTrainWorker pid=50526)\u001b[0m Moving model to device: cpu\n",
      "\u001b[36m(RayTrainWorker pid=50526)\u001b[0m Wrapping provided model in DistributedDataParallel.\n",
      "\u001b[36m(RayTrainWorker pid=50529)\u001b[0m Checkpoint successfully created at: Checkpoint(filesystem=local, path=/Users/majid/Projects/nlp/GPT/ray_results/mlflow/TorchTrainer_2024-11-30_15-04-01/TorchTrainer_4cdf0f86_2_dropout_p=0.4793,lr=0.0003,n_train_steps=2043_2024-11-30_15-04-06/checkpoint_000000)\n",
      "\u001b[36m(RayTrainWorker pid=50526)\u001b[0m [W1130 15:06:35.036226000 ProcessGroupGloo.cpp:745] Warning: Unable to resolve hostname to a (local) address. Using the loopback address as fallback. Manually set the network interface to bind to with GLOO_SOCKET_IFNAME. (function operator())\u001b[32m [repeated 5x across cluster]\u001b[0m\n",
      "\u001b[36m(RayTrainWorker pid=50529)\u001b[0m Checkpoint successfully created at: Checkpoint(filesystem=local, path=/Users/majid/Projects/nlp/GPT/ray_results/mlflow/TorchTrainer_2024-11-30_15-04-01/TorchTrainer_4cdf0f86_2_dropout_p=0.4793,lr=0.0003,n_train_steps=2043_2024-11-30_15-04-06/checkpoint_000001)\u001b[32m [repeated 6x across cluster]\u001b[0m\n",
      "\u001b[36m(RayTrainWorker pid=50529)\u001b[0m Checkpoint successfully created at: Checkpoint(filesystem=local, path=/Users/majid/Projects/nlp/GPT/ray_results/mlflow/TorchTrainer_2024-11-30_15-04-01/TorchTrainer_4cdf0f86_2_dropout_p=0.4793,lr=0.0003,n_train_steps=2043_2024-11-30_15-04-06/checkpoint_000002)\u001b[32m [repeated 6x across cluster]\u001b[0m\n",
      "\u001b[36m(RayTrainWorker pid=50526)\u001b[0m Checkpoint successfully created at: Checkpoint(filesystem=local, path=/Users/majid/Projects/nlp/GPT/ray_results/mlflow/TorchTrainer_2024-11-30_15-04-01/TorchTrainer_4cdf0f86_2_dropout_p=0.4793,lr=0.0003,n_train_steps=2043_2024-11-30_15-04-06/checkpoint_000002)\n",
      "\u001b[36m(ProxyActor pid=48893)\u001b[0m INFO 2024-11-30 16:37:36,624 proxy 127.0.0.1 proxy.py:1202 - Proxy starting on node 9b76a285ba79a64ea7901b9e289e8766f607ee4311dff7dbabf6a011 (HTTP port: 8000).\n",
      "\u001b[36m(ServeController pid=48890)\u001b[0m INFO 2024-11-30 16:37:37,453 controller 48890 deployment_state.py:1617 - Deploying new version of Deployment(name='servedGPT', app='default') (initial target replicas: 1).\n",
      "\u001b[36m(ServeController pid=48890)\u001b[0m INFO 2024-11-30 16:37:37,556 controller 48890 deployment_state.py:1863 - Adding 1 replica to Deployment(name='servedGPT', app='default').\n",
      "\u001b[36m(ServeReplica:default:servedGPT pid=51710)\u001b[0m INFO 2024-11-30 16:37:45,633 default_servedGPT 63bunwr5 d6283fc3-fed7-4de9-9fa0-a01f811fe7b8 /predict/ replica.py:431 - __CALL__ OK 12.4ms\n",
      "\u001b[36m(ServeReplica:default:servedGPT pid=51710)\u001b[0m INFO 2024-11-30 16:38:06,633 default_servedGPT 63bunwr5 5bfb8c00-8086-4708-aa42-f15b66d7f4bb /predict/ replica.py:431 - __CALL__ OK 2.7ms\n",
      "\u001b[36m(ServeReplica:default:servedGPT pid=51710)\u001b[0m INFO 2024-11-30 16:38:12,943 default_servedGPT 63bunwr5 b91498d7-6570-48ab-982d-e58827e6d9c2 /predict/ replica.py:431 - __CALL__ OK 2.8ms\n",
      "\u001b[36m(ServeController pid=48890)\u001b[0m INFO 2024-11-30 16:43:55,699 controller 48890 deployment_state.py:1879 - Removing 1 replica from Deployment(name='servedGPT', app='default').\n",
      "\u001b[36m(ServeController pid=48890)\u001b[0m INFO 2024-11-30 16:43:57,747 controller 48890 deployment_state.py:2204 - Replica(id='63bunwr5', deployment='servedGPT', app='default') is stopped.\n",
      "\u001b[36m(ServeController pid=51929)\u001b[0m INFO 2024-11-30 16:49:01,264 controller 51929 deployment_state.py:1617 - Deploying new version of Deployment(name='servedGPT', app='default') (initial target replicas: 1).\n",
      "\u001b[36m(ProxyActor pid=51931)\u001b[0m INFO 2024-11-30 16:49:01,211 proxy 127.0.0.1 proxy.py:1202 - Proxy starting on node 9b76a285ba79a64ea7901b9e289e8766f607ee4311dff7dbabf6a011 (HTTP port: 8000).\n",
      "\u001b[36m(ServeController pid=51929)\u001b[0m INFO 2024-11-30 16:49:01,367 controller 51929 deployment_state.py:1863 - Adding 1 replica to Deployment(name='servedGPT', app='default').\n",
      "\u001b[36m(ServeReplica:default:servedGPT pid=51932)\u001b[0m INFO 2024-11-30 16:49:07,662 default_servedGPT s2ogr6kk a30e6755-8f81-4579-bcdc-2b7919d6c3b8 /predict/ replica.py:431 - __CALL__ OK 9.1ms\n",
      "\u001b[36m(ServeReplica:default:servedGPT pid=51932)\u001b[0m INFO 2024-11-30 16:50:24,832 default_servedGPT s2ogr6kk abd898b5-f3e1-4747-8b92-12bfe2acaa87 /predict/ replica.py:431 - __CALL__ OK 4.0ms\n",
      "\u001b[36m(ServeController pid=51929)\u001b[0m INFO 2024-11-30 17:26:16,302 controller 51929 deployment_state.py:1879 - Removing 1 replica from Deployment(name='servedGPT', app='default').\n",
      "\u001b[36m(ServeController pid=51929)\u001b[0m INFO 2024-11-30 17:26:18,356 controller 51929 deployment_state.py:2204 - Replica(id='s2ogr6kk', deployment='servedGPT', app='default') is stopped.\n",
      "\u001b[36m(ServeController pid=52674)\u001b[0m INFO 2024-11-30 17:26:52,674 controller 52674 deployment_state.py:1617 - Deploying new version of Deployment(name='servedGPT', app='default') (initial target replicas: 1).\n",
      "\u001b[36m(ProxyActor pid=52675)\u001b[0m INFO 2024-11-30 17:26:52,614 proxy 127.0.0.1 proxy.py:1202 - Proxy starting on node 9b76a285ba79a64ea7901b9e289e8766f607ee4311dff7dbabf6a011 (HTTP port: 8000).\n",
      "\u001b[36m(ServeController pid=52674)\u001b[0m INFO 2024-11-30 17:26:52,777 controller 52674 deployment_state.py:1863 - Adding 1 replica to Deployment(name='servedGPT', app='default').\n",
      "\u001b[36m(ServeReplica:default:servedGPT pid=52676)\u001b[0m INFO 2024-11-30 17:28:04,733 default_servedGPT bckpeks2 810f0cc1-f087-4c33-89c6-6e458be0472a /predict/ replica.py:431 - __CALL__ OK 8.1ms\n",
      "\u001b[36m(ServeReplica:default:servedGPT pid=52676)\u001b[0m INFO 2024-11-30 17:46:02,709 default_servedGPT bckpeks2 d496177c-5822-4781-bf98-f2182f3dee09 /predict/ replica.py:431 - __CALL__ OK 4.3ms\n",
      "\u001b[36m(ServeController pid=52674)\u001b[0m INFO 2024-11-30 17:46:05,217 controller 52674 deployment_state.py:1879 - Removing 1 replica from Deployment(name='servedGPT', app='default').\n",
      "\u001b[36m(ServeController pid=52674)\u001b[0m INFO 2024-11-30 17:46:07,281 controller 52674 deployment_state.py:2204 - Replica(id='bckpeks2', deployment='servedGPT', app='default') is stopped.\n",
      "\u001b[36m(ServeController pid=53206)\u001b[0m INFO 2024-11-30 17:50:31,055 controller 53206 deployment_state.py:1617 - Deploying new version of Deployment(name='servedGPT', app='default') (initial target replicas: 1).\n",
      "\u001b[36m(ProxyActor pid=53208)\u001b[0m INFO 2024-11-30 17:50:30,993 proxy 127.0.0.1 proxy.py:1202 - Proxy starting on node 9b76a285ba79a64ea7901b9e289e8766f607ee4311dff7dbabf6a011 (HTTP port: 8000).\n",
      "\u001b[36m(ServeController pid=53206)\u001b[0m INFO 2024-11-30 17:50:31,157 controller 53206 deployment_state.py:1863 - Adding 1 replica to Deployment(name='servedGPT', app='default').\n",
      "\u001b[36m(ServeReplica:default:servedGPT pid=53210)\u001b[0m INFO 2024-11-30 17:50:52,837 default_servedGPT sfzyndw2 b22a8f5d-8c78-4142-b2db-80aee4ee89d8 /predict/ replica.py:431 - __CALL__ OK 8.1ms\n",
      "\u001b[36m(ServeController pid=53206)\u001b[0m INFO 2024-11-30 17:54:14,599 controller 53206 deployment_state.py:1879 - Removing 1 replica from Deployment(name='servedGPT', app='default').\n",
      "\u001b[36m(ServeController pid=53206)\u001b[0m INFO 2024-11-30 17:54:16,677 controller 53206 deployment_state.py:2204 - Replica(id='sfzyndw2', deployment='servedGPT', app='default') is stopped.\n",
      "\u001b[36m(ProxyActor pid=53285)\u001b[0m INFO 2024-11-30 17:54:30,842 proxy 127.0.0.1 proxy.py:1202 - Proxy starting on node 9b76a285ba79a64ea7901b9e289e8766f607ee4311dff7dbabf6a011 (HTTP port: 8000).\n",
      "\u001b[36m(ServeController pid=53283)\u001b[0m INFO 2024-11-30 17:54:30,906 controller 53283 deployment_state.py:1617 - Deploying new version of Deployment(name='servedGPT', app='default') (initial target replicas: 1).\n",
      "\u001b[36m(ServeController pid=53283)\u001b[0m INFO 2024-11-30 17:54:31,009 controller 53283 deployment_state.py:1863 - Adding 1 replica to Deployment(name='servedGPT', app='default').\n",
      "\u001b[36m(ServeReplica:default:servedGPT pid=53286)\u001b[0m INFO 2024-11-30 17:54:34,506 default_servedGPT 8416v8ho 3866cf33-4000-4646-8fa8-aad538b8b6f3 /predict/ replica.py:431 - __CALL__ OK 7.8ms\n",
      "\u001b[36m(ServeReplica:default:servedGPT pid=53286)\u001b[0m INFO 2024-11-30 17:55:01,080 default_servedGPT 8416v8ho d4456951-cf1e-4781-8875-32258d0fdc86 /predict/ replica.py:431 - __CALL__ OK 2.8ms\n",
      "\u001b[36m(ServeController pid=53283)\u001b[0m INFO 2024-11-30 18:05:09,258 controller 53283 deployment_state.py:1879 - Removing 1 replica from Deployment(name='servedGPT', app='default').\n",
      "\u001b[36m(ServeController pid=53283)\u001b[0m INFO 2024-11-30 18:05:11,329 controller 53283 deployment_state.py:2204 - Replica(id='8416v8ho', deployment='servedGPT', app='default') is stopped.\n",
      "\u001b[36m(ServeController pid=53577)\u001b[0m INFO 2024-11-30 18:06:00,465 controller 53577 deployment_state.py:1617 - Deploying new version of Deployment(name='servedGPT', app='default') (initial target replicas: 1).\n",
      "\u001b[36m(ProxyActor pid=53578)\u001b[0m INFO 2024-11-30 18:06:00,393 proxy 127.0.0.1 proxy.py:1202 - Proxy starting on node 9b76a285ba79a64ea7901b9e289e8766f607ee4311dff7dbabf6a011 (HTTP port: 8000).\n",
      "\u001b[36m(ServeController pid=53577)\u001b[0m INFO 2024-11-30 18:06:00,567 controller 53577 deployment_state.py:1863 - Adding 1 replica to Deployment(name='servedGPT', app='default').\n",
      "\u001b[36m(ServeReplica:default:servedGPT pid=53580)\u001b[0m INFO 2024-11-30 18:06:49,673 default_servedGPT dybdt6j0 c2756f72-7d1f-4b20-a4a5-15fe666ad6ab /predict/ replica.py:431 - __CALL__ OK 8.2ms\n",
      "\u001b[36m(ServeReplica:default:servedGPT pid=53580)\u001b[0m INFO 2024-11-30 18:06:52,057 default_servedGPT dybdt6j0 92bf50f0-0709-4e12-bcc5-259becab8005 /predict/ replica.py:431 - __CALL__ OK 2.7ms\n",
      "\u001b[36m(ServeController pid=53577)\u001b[0m INFO 2024-11-30 18:12:13,782 controller 53577 deployment_state.py:1879 - Removing 1 replica from Deployment(name='servedGPT', app='default').\n",
      "\u001b[36m(ServeController pid=53577)\u001b[0m INFO 2024-11-30 18:12:15,838 controller 53577 deployment_state.py:2204 - Replica(id='dybdt6j0', deployment='servedGPT', app='default') is stopped.\n",
      "\u001b[36m(ProxyActor pid=53696)\u001b[0m INFO 2024-11-30 18:12:29,356 proxy 127.0.0.1 proxy.py:1202 - Proxy starting on node 9b76a285ba79a64ea7901b9e289e8766f607ee4311dff7dbabf6a011 (HTTP port: 8000).\n",
      "\u001b[36m(ServeController pid=53695)\u001b[0m INFO 2024-11-30 18:12:29,463 controller 53695 deployment_state.py:1617 - Deploying new version of Deployment(name='servedGPT', app='default') (initial target replicas: 1).\n",
      "\u001b[36m(ServeController pid=53695)\u001b[0m INFO 2024-11-30 18:12:29,566 controller 53695 deployment_state.py:1863 - Adding 1 replica to Deployment(name='servedGPT', app='default').\n",
      "\u001b[36m(ServeReplica:default:servedGPT pid=53697)\u001b[0m INFO 2024-11-30 18:13:16,458 default_servedGPT jk7lce1l 05d7d3ea-5952-4f45-a8a1-3a085701f179 / replica.py:431 - __CALL__ OK 10.6ms\n",
      "\u001b[36m(ServeReplica:default:servedGPT pid=53697)\u001b[0m INFO 2024-11-30 18:14:40,755 default_servedGPT jk7lce1l d5f4ba13-da70-4e77-9967-1213e392a839 / replica.py:431 - __CALL__ OK 4.0ms\n",
      "\u001b[36m(ServeReplica:default:servedGPT pid=53697)\u001b[0m INFO 2024-11-30 18:14:51,304 default_servedGPT jk7lce1l 92abb56a-d9fc-4638-808a-d4b682e7f3f0 / replica.py:431 - __CALL__ OK 2.4ms\n",
      "\u001b[36m(ServeReplica:default:servedGPT pid=53697)\u001b[0m INFO 2024-11-30 18:15:13,666 default_servedGPT jk7lce1l c0cf0ff4-c092-41a3-bc3f-1fd5ed99c13c / replica.py:431 - __CALL__ OK 2.2ms\n",
      "\u001b[36m(ServeReplica:default:servedGPT pid=53697)\u001b[0m INFO 2024-11-30 18:17:17,220 default_servedGPT jk7lce1l a2b3eadf-3700-4f93-8381-90bdc8b3204c / replica.py:431 - __CALL__ OK 1.5ms\n",
      "\u001b[36m(ProxyActor pid=53696)\u001b[0m ERROR:    Exception in ASGI application\n",
      "\u001b[36m(ProxyActor pid=53696)\u001b[0m Traceback (most recent call last):\n",
      "\u001b[36m(ProxyActor pid=53696)\u001b[0m   File \"/Users/majid/Projects/nlp/nlpvenv/lib/python3.10/site-packages/uvicorn/protocols/http/httptools_impl.py\", line 409, in run_asgi\n",
      "\u001b[36m(ProxyActor pid=53696)\u001b[0m     result = await app(  # type: ignore[func-returns-value]\n",
      "\u001b[36m(ProxyActor pid=53696)\u001b[0m   File \"/Users/majid/Projects/nlp/nlpvenv/lib/python3.10/site-packages/uvicorn/middleware/proxy_headers.py\", line 60, in __call__\n",
      "\u001b[36m(ProxyActor pid=53696)\u001b[0m     return await self.app(scope, receive, send)\n",
      "\u001b[36m(ProxyActor pid=53696)\u001b[0m   File \"/Users/majid/Projects/nlp/nlpvenv/lib/python3.10/site-packages/ray/serve/_private/proxy.py\", line 1149, in __call__\n",
      "\u001b[36m(ProxyActor pid=53696)\u001b[0m     await self.app(scope, receive, send_with_request_id)\n",
      "\u001b[36m(ProxyActor pid=53696)\u001b[0m   File \"/Users/majid/Projects/nlp/nlpvenv/lib/python3.10/site-packages/ray/serve/_private/proxy.py\", line 883, in __call__\n",
      "\u001b[36m(ProxyActor pid=53696)\u001b[0m     await send(message)\n",
      "\u001b[36m(ProxyActor pid=53696)\u001b[0m   File \"/Users/majid/Projects/nlp/nlpvenv/lib/python3.10/site-packages/ray/serve/_private/proxy.py\", line 1147, in send_with_request_id\n",
      "\u001b[36m(ProxyActor pid=53696)\u001b[0m     await send(message)\n",
      "\u001b[36m(ProxyActor pid=53696)\u001b[0m   File \"/Users/majid/Projects/nlp/nlpvenv/lib/python3.10/site-packages/uvicorn/protocols/http/httptools_impl.py\", line 554, in send\n",
      "\u001b[36m(ProxyActor pid=53696)\u001b[0m     raise RuntimeError(msg % message_type)\n",
      "\u001b[36m(ProxyActor pid=53696)\u001b[0m RuntimeError: Unexpected ASGI message 'http.response.start' sent, after response already completed.\n",
      "\u001b[36m(ProxyActor pid=53696)\u001b[0m Unhandled error (suppress with 'RAY_IGNORE_UNHANDLED_ERRORS=1'): \u001b[36mray::ServeReplica:default:servedGPT.handle_request_with_rejection()\u001b[39m (pid=53697, ip=127.0.0.1, actor_id=451c1ad971a01ce240104cd501000000, repr=<ray.serve._private.replica.ServeReplica:default:servedGPT object at 0x11a6d2590>)\n",
      "\u001b[36m(ProxyActor pid=53696)\u001b[0m     async for result in self._call_user_generator(\n",
      "\u001b[36m(ProxyActor pid=53696)\u001b[0m   File \"/Users/majid/Projects/nlp/nlpvenv/lib/python3.10/site-packages/ray/serve/_private/replica.py\", line 507, in _call_user_generator\n",
      "\u001b[36m(ProxyActor pid=53696)\u001b[0m     raise e from None\n",
      "\u001b[36m(ProxyActor pid=53696)\u001b[0m   File \"/Users/majid/Projects/nlp/nlpvenv/lib/python3.10/site-packages/ray/serve/_private/replica.py\", line 1227, in call_user_method\n",
      "\u001b[36m(ProxyActor pid=53696)\u001b[0m     await self._call_func_or_gen(\n",
      "\u001b[36m(ProxyActor pid=53696)\u001b[0m   File \"/Users/majid/Projects/nlp/nlpvenv/lib/python3.10/site-packages/ray/serve/_private/replica.py\", line 938, in _call_func_or_gen\n",
      "\u001b[36m(ProxyActor pid=53696)\u001b[0m     result = await result\n",
      "\u001b[36m(ProxyActor pid=53696)\u001b[0m   File \"/Users/majid/Projects/nlp/nlpvenv/lib/python3.10/site-packages/ray/serve/_private/http_util.py\", line 497, in __call__\n",
      "\u001b[36m(ProxyActor pid=53696)\u001b[0m     await self._asgi_app(\n",
      "\u001b[36m(ProxyActor pid=53696)\u001b[0m   File \"/Users/majid/Projects/nlp/nlpvenv/lib/python3.10/site-packages/fastapi/applications.py\", line 1054, in __call__\n",
      "\u001b[36m(ProxyActor pid=53696)\u001b[0m     await super().__call__(scope, receive, send)\n",
      "\u001b[36m(ProxyActor pid=53696)\u001b[0m   File \"/Users/majid/Projects/nlp/nlpvenv/lib/python3.10/site-packages/starlette/applications.py\", line 113, in __call__\n",
      "\u001b[36m(ProxyActor pid=53696)\u001b[0m     await self.middleware_stack(scope, receive, send)\n",
      "\u001b[36m(ProxyActor pid=53696)\u001b[0m   File \"/Users/majid/Projects/nlp/nlpvenv/lib/python3.10/site-packages/starlette/middleware/errors.py\", line 187, in __call__\n",
      "\u001b[36m(ProxyActor pid=53696)\u001b[0m     raise exc\n",
      "\u001b[36m(ProxyActor pid=53696)\u001b[0m   File \"/Users/majid/Projects/nlp/nlpvenv/lib/python3.10/site-packages/starlette/middleware/errors.py\", line 165, in __call__\n",
      "\u001b[36m(ProxyActor pid=53696)\u001b[0m     await self.app(scope, receive, _send)\n",
      "\u001b[36m(ProxyActor pid=53696)\u001b[0m   File \"/Users/majid/Projects/nlp/nlpvenv/lib/python3.10/site-packages/starlette/middleware/exceptions.py\", line 62, in __call__\n",
      "\u001b[36m(ProxyActor pid=53696)\u001b[0m     await wrap_app_handling_exceptions(self.app, conn)(scope, receive, send)\n",
      "\u001b[36m(ProxyActor pid=53696)\u001b[0m   File \"/Users/majid/Projects/nlp/nlpvenv/lib/python3.10/site-packages/starlette/_exception_handler.py\", line 53, in wrapped_app\n",
      "\u001b[36m(ProxyActor pid=53696)\u001b[0m     raise exc\n",
      "\u001b[36m(ProxyActor pid=53696)\u001b[0m   File \"/Users/majid/Projects/nlp/nlpvenv/lib/python3.10/site-packages/starlette/_exception_handler.py\", line 42, in wrapped_app\n",
      "\u001b[36m(ProxyActor pid=53696)\u001b[0m     await app(scope, receive, sender)\n",
      "\u001b[36m(ProxyActor pid=53696)\u001b[0m   File \"/Users/majid/Projects/nlp/nlpvenv/lib/python3.10/site-packages/starlette/routing.py\", line 715, in __call__\n",
      "\u001b[36m(ProxyActor pid=53696)\u001b[0m     await self.middleware_stack(scope, receive, send)\n",
      "\u001b[36m(ProxyActor pid=53696)\u001b[0m   File \"/Users/majid/Projects/nlp/nlpvenv/lib/python3.10/site-packages/starlette/routing.py\", line 735, in app\n",
      "\u001b[36m(ProxyActor pid=53696)\u001b[0m     await route.handle(scope, receive, send)\n",
      "\u001b[36m(ProxyActor pid=53696)\u001b[0m   File \"/Users/majid/Projects/nlp/nlpvenv/lib/python3.10/site-packages/starlette/routing.py\", line 288, in handle\n",
      "\u001b[36m(ProxyActor pid=53696)\u001b[0m     await self.app(scope, receive, send)\n",
      "\u001b[36m(ProxyActor pid=53696)\u001b[0m   File \"/Users/majid/Projects/nlp/nlpvenv/lib/python3.10/site-packages/starlette/routing.py\", line 76, in app\n",
      "\u001b[36m(ProxyActor pid=53696)\u001b[0m     await wrap_app_handling_exceptions(app, request)(scope, receive, send)\n",
      "\u001b[36m(ProxyActor pid=53696)\u001b[0m   File \"/Users/majid/Projects/nlp/nlpvenv/lib/python3.10/site-packages/starlette/_exception_handler.py\", line 53, in wrapped_app\n",
      "\u001b[36m(ProxyActor pid=53696)\u001b[0m     raise exc\n",
      "\u001b[36m(ProxyActor pid=53696)\u001b[0m   File \"/Users/majid/Projects/nlp/nlpvenv/lib/python3.10/site-packages/starlette/_exception_handler.py\", line 42, in wrapped_app\n",
      "\u001b[36m(ProxyActor pid=53696)\u001b[0m     await app(scope, receive, sender)\n",
      "\u001b[36m(ProxyActor pid=53696)\u001b[0m   File \"/Users/majid/Projects/nlp/nlpvenv/lib/python3.10/site-packages/starlette/routing.py\", line 73, in app\n",
      "\u001b[36m(ProxyActor pid=53696)\u001b[0m     response = await f(request)\n",
      "\u001b[36m(ProxyActor pid=53696)\u001b[0m   File \"/Users/majid/Projects/nlp/nlpvenv/lib/python3.10/site-packages/fastapi/routing.py\", line 301, in app\n",
      "\u001b[36m(ProxyActor pid=53696)\u001b[0m     raw_response = await run_endpoint_function(\n",
      "\u001b[36m(ProxyActor pid=53696)\u001b[0m   File \"/Users/majid/Projects/nlp/nlpvenv/lib/python3.10/site-packages/fastapi/routing.py\", line 212, in run_endpoint_function\n",
      "\u001b[36m(ProxyActor pid=53696)\u001b[0m     return await dependant.call(**values)\n",
      "\u001b[36m(ProxyActor pid=53696)\u001b[0m   File \"/var/folders/9p/9nbt0hzx4f71r06ht633_g4m0000gn/T/ipykernel_48837/3990099228.py\", line 18, in _predict\n",
      "\u001b[36m(ProxyActor pid=53696)\u001b[0m   File \"/Users/majid/Projects/nlp/nlpvenv/lib/python3.10/site-packages/starlette/requests.py\", line 249, in json\n",
      "\u001b[36m(ProxyActor pid=53696)\u001b[0m     self._json = json.loads(body)\n",
      "\u001b[36m(ProxyActor pid=53696)\u001b[0m   File \"/Users/majid/.pyenv/versions/3.10.11/lib/python3.10/json/__init__.py\", line 346, in loads\n",
      "\u001b[36m(ProxyActor pid=53696)\u001b[0m     return _default_decoder.decode(s)\n",
      "\u001b[36m(ProxyActor pid=53696)\u001b[0m   File \"/Users/majid/.pyenv/versions/3.10.11/lib/python3.10/json/decoder.py\", line 337, in decode\n",
      "\u001b[36m(ProxyActor pid=53696)\u001b[0m     obj, end = self.raw_decode(s, idx=_w(s, 0).end())\n",
      "\u001b[36m(ProxyActor pid=53696)\u001b[0m   File \"/Users/majid/.pyenv/versions/3.10.11/lib/python3.10/json/decoder.py\", line 355, in raw_decode\n",
      "\u001b[36m(ProxyActor pid=53696)\u001b[0m     raise JSONDecodeError(\"Expecting value\", s, err.value) from None\n",
      "\u001b[36m(ProxyActor pid=53696)\u001b[0m json.decoder.JSONDecodeError: Expecting value: line 1 column 1 (char 0)\n",
      "\u001b[36m(ServeReplica:default:servedGPT pid=53697)\u001b[0m WARNING 2024-11-30 18:17:28,126 default_servedGPT jk7lce1l 51a7cdd3-21db-4d7a-8342-cb3f39b97403 /predict/ 3990099228.py:16 - this is your stupid <starlette.requests.Request object at 0x14cd91db0>\n",
      "\u001b[36m(ServeReplica:default:servedGPT pid=53697)\u001b[0m ERROR 2024-11-30 18:17:28,127 default_servedGPT jk7lce1l 51a7cdd3-21db-4d7a-8342-cb3f39b97403 /predict/ replica.py:417 - Request failed.\n",
      "\u001b[36m(ServeReplica:default:servedGPT pid=53697)\u001b[0m   File \"/Users/majid/Projects/nlp/nlpvenv/lib/python3.10/site-packages/ray/serve/_private/replica.py\", line 403, in _wrap_user_method_call\n",
      "\u001b[36m(ServeReplica:default:servedGPT pid=53697)\u001b[0m     yield\n",
      "\u001b[36m(ServeReplica:default:servedGPT pid=53697)\u001b[0m   File \"/Users/majid/Projects/nlp/nlpvenv/lib/python3.10/site-packages/ray/serve/_private/replica.py\", line 594, in handle_request_with_rejection\n",
      "\u001b[36m(ServeReplica:default:servedGPT pid=53697)\u001b[0m INFO 2024-11-30 18:17:28,135 default_servedGPT jk7lce1l 51a7cdd3-21db-4d7a-8342-cb3f39b97403 /predict/ replica.py:431 - __CALL__ ERROR 10.4ms\n"
     ]
    },
    {
     "name": "stdout",
     "output_type": "stream",
     "text": [
      "\u001b[36m(ServeReplica:default:servedGPT pid=53697)\u001b[0m this is your stupid <starlette.requests.Request object at 0x14cd91db0>\n"
     ]
    },
    {
     "name": "stderr",
     "output_type": "stream",
     "text": [
      "\u001b[36m(ProxyActor pid=53696)\u001b[0m ERROR:    Exception in ASGI application\n",
      "\u001b[36m(ProxyActor pid=53696)\u001b[0m   File \"/Users/majid/Projects/nlp/nlpvenv/lib/python3.10/site-packages/uvicorn/protocols/http/httptools_impl.py\", line 409, in run_asgi\n",
      "\u001b[36m(ProxyActor pid=53696)\u001b[0m     result = await app(  # type: ignore[func-returns-value]\n",
      "\u001b[36m(ProxyActor pid=53696)\u001b[0m     return await self.app(scope, receive, send)\n",
      "\u001b[36m(ProxyActor pid=53696)\u001b[0m     await self.app(scope, receive, send_with_request_id)\n",
      "\u001b[36m(ProxyActor pid=53696)\u001b[0m     await send(message)\n",
      "\u001b[36m(ProxyActor pid=53696)\u001b[0m   File \"/Users/majid/Projects/nlp/nlpvenv/lib/python3.10/site-packages/ray/serve/_private/proxy.py\", line 1147, in send_with_request_id\n",
      "\u001b[36m(ProxyActor pid=53696)\u001b[0m     await send(message)\n",
      "\u001b[36m(ProxyActor pid=53696)\u001b[0m   File \"/Users/majid/Projects/nlp/nlpvenv/lib/python3.10/site-packages/uvicorn/protocols/http/httptools_impl.py\", line 554, in send\n",
      "\u001b[36m(ProxyActor pid=53696)\u001b[0m     raise RuntimeError(msg % message_type)\n",
      "\u001b[36m(ProxyActor pid=53696)\u001b[0m RuntimeError: Unexpected ASGI message 'http.response.start' sent, after response already completed.\n",
      "\u001b[36m(ProxyActor pid=53696)\u001b[0m Unhandled error (suppress with 'RAY_IGNORE_UNHANDLED_ERRORS=1'): \u001b[36mray::ServeReplica:default:servedGPT.handle_request_with_rejection()\u001b[39m (pid=53697, ip=127.0.0.1, actor_id=451c1ad971a01ce240104cd501000000, repr=<ray.serve._private.replica.ServeReplica:default:servedGPT object at 0x11a6d2590>)\n",
      "\u001b[36m(ProxyActor pid=53696)\u001b[0m Traceback (most recent call last):\u001b[32m [repeated 2x across cluster]\u001b[0m\n",
      "\u001b[36m(ProxyActor pid=53696)\u001b[0m   File \"/Users/majid/Projects/nlp/nlpvenv/lib/python3.10/site-packages/starlette/routing.py\", line 715, in __call__\u001b[32m [repeated 17x across cluster]\u001b[0m\n",
      "\u001b[36m(ProxyActor pid=53696)\u001b[0m     async for result in self._call_user_generator(\u001b[32m [repeated 2x across cluster]\u001b[0m\n",
      "\u001b[36m(ProxyActor pid=53696)\u001b[0m   File \"/Users/majid/Projects/nlp/nlpvenv/lib/python3.10/site-packages/ray/serve/_private/replica.py\", line 507, in _call_user_generator\u001b[32m [repeated 2x across cluster]\u001b[0m\n",
      "\u001b[36m(ProxyActor pid=53696)\u001b[0m     raise e from None\u001b[32m [repeated 2x across cluster]\u001b[0m\n",
      "\u001b[36m(ProxyActor pid=53696)\u001b[0m   File \"/Users/majid/Projects/nlp/nlpvenv/lib/python3.10/site-packages/ray/serve/_private/replica.py\", line 1227, in call_user_method\u001b[32m [repeated 2x across cluster]\u001b[0m\n",
      "\u001b[36m(ProxyActor pid=53696)\u001b[0m     await self._call_func_or_gen(\u001b[32m [repeated 2x across cluster]\u001b[0m\n",
      "\u001b[36m(ProxyActor pid=53696)\u001b[0m   File \"/Users/majid/Projects/nlp/nlpvenv/lib/python3.10/site-packages/ray/serve/_private/replica.py\", line 938, in _call_func_or_gen\u001b[32m [repeated 2x across cluster]\u001b[0m\n",
      "\u001b[36m(ProxyActor pid=53696)\u001b[0m     result = await result\u001b[32m [repeated 2x across cluster]\u001b[0m\n",
      "\u001b[36m(ProxyActor pid=53696)\u001b[0m     await self._asgi_app(\u001b[32m [repeated 2x across cluster]\u001b[0m\n",
      "\u001b[36m(ProxyActor pid=53696)\u001b[0m     await super().__call__(scope, receive, send)\u001b[32m [repeated 2x across cluster]\u001b[0m\n",
      "\u001b[36m(ProxyActor pid=53696)\u001b[0m     await self.middleware_stack(scope, receive, send)\u001b[32m [repeated 4x across cluster]\u001b[0m\n",
      "\u001b[36m(ProxyActor pid=53696)\u001b[0m     raise exc\u001b[32m [repeated 6x across cluster]\u001b[0m\n",
      "\u001b[36m(ProxyActor pid=53696)\u001b[0m     await self.app(scope, receive, _send)\u001b[32m [repeated 2x across cluster]\u001b[0m\n",
      "\u001b[36m(ProxyActor pid=53696)\u001b[0m     await wrap_app_handling_exceptions(self.app, conn)(scope, receive, send)\u001b[32m [repeated 2x across cluster]\u001b[0m\n",
      "\u001b[36m(ProxyActor pid=53696)\u001b[0m   File \"/Users/majid/Projects/nlp/nlpvenv/lib/python3.10/site-packages/starlette/_exception_handler.py\", line 42, in wrapped_app\u001b[32m [repeated 8x across cluster]\u001b[0m\n",
      "\u001b[36m(ProxyActor pid=53696)\u001b[0m     await app(scope, receive, sender)\u001b[32m [repeated 4x across cluster]\u001b[0m\n",
      "\u001b[36m(ProxyActor pid=53696)\u001b[0m   File \"/Users/majid/Projects/nlp/nlpvenv/lib/python3.10/site-packages/fastapi/routing.py\", line 301, in app\u001b[32m [repeated 8x across cluster]\u001b[0m\n",
      "\u001b[36m(ProxyActor pid=53696)\u001b[0m     await route.handle(scope, receive, send)\u001b[32m [repeated 2x across cluster]\u001b[0m\n",
      "\u001b[36m(ProxyActor pid=53696)\u001b[0m   File \"/Users/majid/Projects/nlp/nlpvenv/lib/python3.10/site-packages/starlette/routing.py\", line 288, in handle\u001b[32m [repeated 2x across cluster]\u001b[0m\n",
      "\u001b[36m(ProxyActor pid=53696)\u001b[0m     await self.app(scope, receive, send)\u001b[32m [repeated 2x across cluster]\u001b[0m\n",
      "\u001b[36m(ProxyActor pid=53696)\u001b[0m     await wrap_app_handling_exceptions(app, request)(scope, receive, send)\u001b[32m [repeated 2x across cluster]\u001b[0m\n",
      "\u001b[36m(ProxyActor pid=53696)\u001b[0m     response = await f(request)\u001b[32m [repeated 2x across cluster]\u001b[0m\n",
      "\u001b[36m(ProxyActor pid=53696)\u001b[0m     raw_response = await run_endpoint_function(\u001b[32m [repeated 2x across cluster]\u001b[0m\n",
      "\u001b[36m(ProxyActor pid=53696)\u001b[0m   File \"/Users/majid/Projects/nlp/nlpvenv/lib/python3.10/site-packages/fastapi/routing.py\", line 212, in run_endpoint_function\u001b[32m [repeated 2x across cluster]\u001b[0m\n",
      "\u001b[36m(ProxyActor pid=53696)\u001b[0m     return await dependant.call(**values)\u001b[32m [repeated 2x across cluster]\u001b[0m\n",
      "\u001b[36m(ProxyActor pid=53696)\u001b[0m   File \"/var/folders/9p/9nbt0hzx4f71r06ht633_g4m0000gn/T/ipykernel_48837/3990099228.py\", line 18, in _predict\u001b[32m [repeated 2x across cluster]\u001b[0m\n",
      "\u001b[36m(ProxyActor pid=53696)\u001b[0m   File \"/Users/majid/Projects/nlp/nlpvenv/lib/python3.10/site-packages/starlette/requests.py\", line 249, in json\u001b[32m [repeated 2x across cluster]\u001b[0m\n",
      "\u001b[36m(ProxyActor pid=53696)\u001b[0m     self._json = json.loads(body)\u001b[32m [repeated 2x across cluster]\u001b[0m\n",
      "\u001b[36m(ProxyActor pid=53696)\u001b[0m   File \"/Users/majid/.pyenv/versions/3.10.11/lib/python3.10/json/__init__.py\", line 346, in loads\u001b[32m [repeated 2x across cluster]\u001b[0m\n",
      "\u001b[36m(ProxyActor pid=53696)\u001b[0m     return _default_decoder.decode(s)\u001b[32m [repeated 2x across cluster]\u001b[0m\n",
      "\u001b[36m(ProxyActor pid=53696)\u001b[0m   File \"/Users/majid/.pyenv/versions/3.10.11/lib/python3.10/json/decoder.py\", line 337, in decode\u001b[32m [repeated 2x across cluster]\u001b[0m\n",
      "\u001b[36m(ProxyActor pid=53696)\u001b[0m     obj, end = self.raw_decode(s, idx=_w(s, 0).end())\u001b[32m [repeated 2x across cluster]\u001b[0m\n",
      "\u001b[36m(ProxyActor pid=53696)\u001b[0m   File \"/Users/majid/.pyenv/versions/3.10.11/lib/python3.10/json/decoder.py\", line 355, in raw_decode\u001b[32m [repeated 2x across cluster]\u001b[0m\n",
      "\u001b[36m(ProxyActor pid=53696)\u001b[0m     raise JSONDecodeError(\"Expecting value\", s, err.value) from None\u001b[32m [repeated 2x across cluster]\u001b[0m\n",
      "\u001b[36m(ProxyActor pid=53696)\u001b[0m json.decoder.JSONDecodeError: Expecting value: line 1 column 1 (char 0)\u001b[32m [repeated 2x across cluster]\u001b[0m\n",
      "\u001b[36m(ServeReplica:default:servedGPT pid=53697)\u001b[0m WARNING 2024-11-30 18:21:13,802 default_servedGPT jk7lce1l 3a888736-f92b-4bb8-b5f0-e4b196ff6ace /predict/ 3990099228.py:16 - this is your stupid <starlette.requests.Request object at 0x14cdc5f00>\n",
      "\u001b[36m(ServeReplica:default:servedGPT pid=53697)\u001b[0m ERROR 2024-11-30 18:21:13,803 default_servedGPT jk7lce1l 3a888736-f92b-4bb8-b5f0-e4b196ff6ace /predict/ replica.py:417 - Request failed.\n",
      "\u001b[36m(ServeReplica:default:servedGPT pid=53697)\u001b[0m   File \"/Users/majid/Projects/nlp/nlpvenv/lib/python3.10/site-packages/ray/serve/_private/replica.py\", line 403, in _wrap_user_method_call\n",
      "\u001b[36m(ServeReplica:default:servedGPT pid=53697)\u001b[0m     yield\n",
      "\u001b[36m(ServeReplica:default:servedGPT pid=53697)\u001b[0m   File \"/Users/majid/Projects/nlp/nlpvenv/lib/python3.10/site-packages/ray/serve/_private/replica.py\", line 594, in handle_request_with_rejection\n",
      "\u001b[36m(ServeReplica:default:servedGPT pid=53697)\u001b[0m INFO 2024-11-30 18:21:13,804 default_servedGPT jk7lce1l 3a888736-f92b-4bb8-b5f0-e4b196ff6ace /predict/ replica.py:431 - __CALL__ ERROR 4.2ms\n"
     ]
    },
    {
     "name": "stdout",
     "output_type": "stream",
     "text": [
      "\u001b[36m(ServeReplica:default:servedGPT pid=53697)\u001b[0m this is your stupid <starlette.requests.Request object at 0x14cdc5f00>\n"
     ]
    },
    {
     "name": "stderr",
     "output_type": "stream",
     "text": [
      "\u001b[36m(ProxyActor pid=53696)\u001b[0m ERROR:    Exception in ASGI application\n",
      "\u001b[36m(ProxyActor pid=53696)\u001b[0m   File \"/Users/majid/Projects/nlp/nlpvenv/lib/python3.10/site-packages/uvicorn/protocols/http/httptools_impl.py\", line 409, in run_asgi\n",
      "\u001b[36m(ProxyActor pid=53696)\u001b[0m     result = await app(  # type: ignore[func-returns-value]\n",
      "\u001b[36m(ProxyActor pid=53696)\u001b[0m     return await self.app(scope, receive, send)\n",
      "\u001b[36m(ProxyActor pid=53696)\u001b[0m     await self.app(scope, receive, send_with_request_id)\n",
      "\u001b[36m(ProxyActor pid=53696)\u001b[0m     await send(message)\n",
      "\u001b[36m(ProxyActor pid=53696)\u001b[0m   File \"/Users/majid/Projects/nlp/nlpvenv/lib/python3.10/site-packages/ray/serve/_private/proxy.py\", line 1147, in send_with_request_id\n",
      "\u001b[36m(ProxyActor pid=53696)\u001b[0m     await send(message)\n",
      "\u001b[36m(ProxyActor pid=53696)\u001b[0m   File \"/Users/majid/Projects/nlp/nlpvenv/lib/python3.10/site-packages/uvicorn/protocols/http/httptools_impl.py\", line 554, in send\n",
      "\u001b[36m(ProxyActor pid=53696)\u001b[0m     raise RuntimeError(msg % message_type)\n",
      "\u001b[36m(ProxyActor pid=53696)\u001b[0m RuntimeError: Unexpected ASGI message 'http.response.start' sent, after response already completed.\n",
      "\u001b[36m(ProxyActor pid=53696)\u001b[0m Unhandled error (suppress with 'RAY_IGNORE_UNHANDLED_ERRORS=1'): \u001b[36mray::ServeReplica:default:servedGPT.handle_request_with_rejection()\u001b[39m (pid=53697, ip=127.0.0.1, actor_id=451c1ad971a01ce240104cd501000000, repr=<ray.serve._private.replica.ServeReplica:default:servedGPT object at 0x11a6d2590>)\n",
      "\u001b[36m(ProxyActor pid=53696)\u001b[0m NameError: name 'model' is not defined\n",
      "\u001b[36m(ProxyActor pid=53696)\u001b[0m Traceback (most recent call last):\u001b[32m [repeated 2x across cluster]\u001b[0m\n",
      "\u001b[36m(ProxyActor pid=53696)\u001b[0m   File \"/Users/majid/Projects/nlp/nlpvenv/lib/python3.10/site-packages/starlette/routing.py\", line 715, in __call__\u001b[32m [repeated 17x across cluster]\u001b[0m\n",
      "\u001b[36m(ProxyActor pid=53696)\u001b[0m     async for result in self._call_user_generator(\u001b[32m [repeated 2x across cluster]\u001b[0m\n",
      "\u001b[36m(ProxyActor pid=53696)\u001b[0m   File \"/Users/majid/Projects/nlp/nlpvenv/lib/python3.10/site-packages/ray/serve/_private/replica.py\", line 507, in _call_user_generator\u001b[32m [repeated 2x across cluster]\u001b[0m\n",
      "\u001b[36m(ProxyActor pid=53696)\u001b[0m     raise e from None\u001b[32m [repeated 2x across cluster]\u001b[0m\n",
      "\u001b[36m(ProxyActor pid=53696)\u001b[0m   File \"/Users/majid/Projects/nlp/nlpvenv/lib/python3.10/site-packages/ray/serve/_private/replica.py\", line 1227, in call_user_method\u001b[32m [repeated 2x across cluster]\u001b[0m\n",
      "\u001b[36m(ProxyActor pid=53696)\u001b[0m     await self._call_func_or_gen(\u001b[32m [repeated 2x across cluster]\u001b[0m\n",
      "\u001b[36m(ProxyActor pid=53696)\u001b[0m   File \"/Users/majid/Projects/nlp/nlpvenv/lib/python3.10/site-packages/ray/serve/_private/replica.py\", line 938, in _call_func_or_gen\u001b[32m [repeated 2x across cluster]\u001b[0m\n",
      "\u001b[36m(ProxyActor pid=53696)\u001b[0m     result = await result\u001b[32m [repeated 2x across cluster]\u001b[0m\n",
      "\u001b[36m(ProxyActor pid=53696)\u001b[0m     await self._asgi_app(\u001b[32m [repeated 2x across cluster]\u001b[0m\n",
      "\u001b[36m(ProxyActor pid=53696)\u001b[0m     await super().__call__(scope, receive, send)\u001b[32m [repeated 2x across cluster]\u001b[0m\n",
      "\u001b[36m(ProxyActor pid=53696)\u001b[0m     await self.middleware_stack(scope, receive, send)\u001b[32m [repeated 4x across cluster]\u001b[0m\n",
      "\u001b[36m(ProxyActor pid=53696)\u001b[0m     raise exc\u001b[32m [repeated 6x across cluster]\u001b[0m\n",
      "\u001b[36m(ProxyActor pid=53696)\u001b[0m     await self.app(scope, receive, _send)\u001b[32m [repeated 2x across cluster]\u001b[0m\n",
      "\u001b[36m(ProxyActor pid=53696)\u001b[0m     await wrap_app_handling_exceptions(self.app, conn)(scope, receive, send)\u001b[32m [repeated 2x across cluster]\u001b[0m\n",
      "\u001b[36m(ProxyActor pid=53696)\u001b[0m   File \"/Users/majid/Projects/nlp/nlpvenv/lib/python3.10/site-packages/starlette/_exception_handler.py\", line 42, in wrapped_app\u001b[32m [repeated 8x across cluster]\u001b[0m\n",
      "\u001b[36m(ProxyActor pid=53696)\u001b[0m     await app(scope, receive, sender)\u001b[32m [repeated 4x across cluster]\u001b[0m\n",
      "\u001b[36m(ProxyActor pid=53696)\u001b[0m   File \"/Users/majid/Projects/nlp/nlpvenv/lib/python3.10/site-packages/fastapi/routing.py\", line 301, in app\u001b[32m [repeated 8x across cluster]\u001b[0m\n",
      "\u001b[36m(ProxyActor pid=53696)\u001b[0m     await route.handle(scope, receive, send)\u001b[32m [repeated 2x across cluster]\u001b[0m\n",
      "\u001b[36m(ProxyActor pid=53696)\u001b[0m   File \"/Users/majid/Projects/nlp/nlpvenv/lib/python3.10/site-packages/starlette/routing.py\", line 288, in handle\u001b[32m [repeated 2x across cluster]\u001b[0m\n",
      "\u001b[36m(ProxyActor pid=53696)\u001b[0m     await self.app(scope, receive, send)\u001b[32m [repeated 2x across cluster]\u001b[0m\n",
      "\u001b[36m(ProxyActor pid=53696)\u001b[0m     await wrap_app_handling_exceptions(app, request)(scope, receive, send)\u001b[32m [repeated 2x across cluster]\u001b[0m\n",
      "\u001b[36m(ProxyActor pid=53696)\u001b[0m     response = await f(request)\u001b[32m [repeated 2x across cluster]\u001b[0m\n",
      "\u001b[36m(ProxyActor pid=53696)\u001b[0m     raw_response = await run_endpoint_function(\u001b[32m [repeated 2x across cluster]\u001b[0m\n",
      "\u001b[36m(ProxyActor pid=53696)\u001b[0m   File \"/Users/majid/Projects/nlp/nlpvenv/lib/python3.10/site-packages/fastapi/routing.py\", line 212, in run_endpoint_function\u001b[32m [repeated 2x across cluster]\u001b[0m\n",
      "\u001b[36m(ProxyActor pid=53696)\u001b[0m     return await dependant.call(**values)\u001b[32m [repeated 2x across cluster]\u001b[0m\n",
      "\u001b[36m(ProxyActor pid=53696)\u001b[0m   File \"/var/folders/9p/9nbt0hzx4f71r06ht633_g4m0000gn/T/ipykernel_48837/3990099228.py\", line 26, in _predict\u001b[32m [repeated 2x across cluster]\u001b[0m\n",
      "\u001b[36m(ServeReplica:default:servedGPT pid=53697)\u001b[0m   File \"/Users/majid/Projects/nlp/nlpvenv/lib/python3.10/site-packages/starlette/requests.py\", line 249, in json\n",
      "\u001b[36m(ServeReplica:default:servedGPT pid=53697)\u001b[0m     self._json = json.loads(body)\n",
      "\u001b[36m(ServeReplica:default:servedGPT pid=53697)\u001b[0m   File \"/Users/majid/.pyenv/versions/3.10.11/lib/python3.10/json/__init__.py\", line 346, in loads\n",
      "\u001b[36m(ServeReplica:default:servedGPT pid=53697)\u001b[0m     return _default_decoder.decode(s)\n",
      "\u001b[36m(ServeReplica:default:servedGPT pid=53697)\u001b[0m   File \"/Users/majid/.pyenv/versions/3.10.11/lib/python3.10/json/decoder.py\", line 337, in decode\n",
      "\u001b[36m(ServeReplica:default:servedGPT pid=53697)\u001b[0m     obj, end = self.raw_decode(s, idx=_w(s, 0).end())\n",
      "\u001b[36m(ServeReplica:default:servedGPT pid=53697)\u001b[0m   File \"/Users/majid/.pyenv/versions/3.10.11/lib/python3.10/json/decoder.py\", line 355, in raw_decode\n",
      "\u001b[36m(ServeReplica:default:servedGPT pid=53697)\u001b[0m     raise JSONDecodeError(\"Expecting value\", s, err.value) from None\n",
      "\u001b[36m(ServeReplica:default:servedGPT pid=53697)\u001b[0m json.decoder.JSONDecodeError: Expecting value: line 1 column 1 (char 0)\n",
      "\u001b[36m(ServeReplica:default:servedGPT pid=53697)\u001b[0m WARNING 2024-11-30 18:23:02,671 default_servedGPT jk7lce1l 366d2ccc-5014-484f-a059-f9f559247f93 /predict/ 3990099228.py:16 - this is your stupid <starlette.requests.Request object at 0x14cdc7f40>\n",
      "\u001b[36m(ServeReplica:default:servedGPT pid=53697)\u001b[0m INFO 2024-11-30 18:23:02,672 default_servedGPT jk7lce1l 366d2ccc-5014-484f-a059-f9f559247f93 /predict/ 3990099228.py:19 - your request data looks like this: {'prompt': 'this is a test prompt'}\n",
      "\u001b[36m(ServeReplica:default:servedGPT pid=53697)\u001b[0m INFO 2024-11-30 18:23:02,672 default_servedGPT jk7lce1l 366d2ccc-5014-484f-a059-f9f559247f93 /predict/ 3990099228.py:22 - your prompt is: this is a test prompt\n",
      "\u001b[36m(ServeReplica:default:servedGPT pid=53697)\u001b[0m ERROR 2024-11-30 18:23:02,673 default_servedGPT jk7lce1l 366d2ccc-5014-484f-a059-f9f559247f93 /predict/ replica.py:417 - Request failed.\n",
      "\u001b[36m(ServeReplica:default:servedGPT pid=53697)\u001b[0m   File \"/Users/majid/Projects/nlp/nlpvenv/lib/python3.10/site-packages/ray/serve/_private/replica.py\", line 403, in _wrap_user_method_call\n",
      "\u001b[36m(ServeReplica:default:servedGPT pid=53697)\u001b[0m     yield\n",
      "\u001b[36m(ServeReplica:default:servedGPT pid=53697)\u001b[0m   File \"/Users/majid/Projects/nlp/nlpvenv/lib/python3.10/site-packages/ray/serve/_private/replica.py\", line 594, in handle_request_with_rejection\n",
      "\u001b[36m(ServeReplica:default:servedGPT pid=53697)\u001b[0m INFO 2024-11-30 18:23:02,674 default_servedGPT jk7lce1l 366d2ccc-5014-484f-a059-f9f559247f93 /predict/ replica.py:431 - __CALL__ ERROR 5.4ms\n"
     ]
    },
    {
     "name": "stdout",
     "output_type": "stream",
     "text": [
      "\u001b[36m(ServeReplica:default:servedGPT pid=53697)\u001b[0m this is your stupid <starlette.requests.Request object at 0x14cdc7f40>\n",
      "\u001b[36m(ServeReplica:default:servedGPT pid=53697)\u001b[0m your request data looks like this: {'prompt': 'this is a test prompt'}\n",
      "\u001b[36m(ServeReplica:default:servedGPT pid=53697)\u001b[0m your prompt is: this is a test prompt\n"
     ]
    },
    {
     "name": "stderr",
     "output_type": "stream",
     "text": [
      "\u001b[36m(ServeController pid=53695)\u001b[0m INFO 2024-11-30 18:24:37,022 controller 53695 deployment_state.py:1879 - Removing 1 replica from Deployment(name='servedGPT', app='default').\n",
      "\u001b[36m(ServeReplica:default:servedGPT pid=53697)\u001b[0m NameError: name 'model' is not defined\n",
      "\u001b[36m(ServeReplica:default:servedGPT pid=53697)\u001b[0m Traceback (most recent call last):\n",
      "\u001b[36m(ServeReplica:default:servedGPT pid=53697)\u001b[0m   File \"/Users/majid/Projects/nlp/nlpvenv/lib/python3.10/site-packages/starlette/routing.py\", line 715, in __call__\u001b[32m [repeated 7x across cluster]\u001b[0m\n",
      "\u001b[36m(ServeReplica:default:servedGPT pid=53697)\u001b[0m     async for result in self._call_user_generator(\n",
      "\u001b[36m(ServeReplica:default:servedGPT pid=53697)\u001b[0m   File \"/Users/majid/Projects/nlp/nlpvenv/lib/python3.10/site-packages/ray/serve/_private/replica.py\", line 507, in _call_user_generator\n",
      "\u001b[36m(ServeReplica:default:servedGPT pid=53697)\u001b[0m     raise e from None\n",
      "\u001b[36m(ServeReplica:default:servedGPT pid=53697)\u001b[0m   File \"/Users/majid/Projects/nlp/nlpvenv/lib/python3.10/site-packages/ray/serve/_private/replica.py\", line 1227, in call_user_method\n",
      "\u001b[36m(ServeReplica:default:servedGPT pid=53697)\u001b[0m     await self._call_func_or_gen(\n",
      "\u001b[36m(ServeReplica:default:servedGPT pid=53697)\u001b[0m   File \"/Users/majid/Projects/nlp/nlpvenv/lib/python3.10/site-packages/ray/serve/_private/replica.py\", line 938, in _call_func_or_gen\n",
      "\u001b[36m(ServeReplica:default:servedGPT pid=53697)\u001b[0m     result = await result\n",
      "\u001b[36m(ServeReplica:default:servedGPT pid=53697)\u001b[0m     await self._asgi_app(\n",
      "\u001b[36m(ServeReplica:default:servedGPT pid=53697)\u001b[0m     await super().__call__(scope, receive, send)\n",
      "\u001b[36m(ServeReplica:default:servedGPT pid=53697)\u001b[0m     await self.middleware_stack(scope, receive, send)\u001b[32m [repeated 2x across cluster]\u001b[0m\n",
      "\u001b[36m(ServeReplica:default:servedGPT pid=53697)\u001b[0m     raise exc\u001b[32m [repeated 3x across cluster]\u001b[0m\n",
      "\u001b[36m(ServeReplica:default:servedGPT pid=53697)\u001b[0m     await self.app(scope, receive, _send)\n",
      "\u001b[36m(ServeReplica:default:servedGPT pid=53697)\u001b[0m     await wrap_app_handling_exceptions(self.app, conn)(scope, receive, send)\n",
      "\u001b[36m(ServeReplica:default:servedGPT pid=53697)\u001b[0m   File \"/Users/majid/Projects/nlp/nlpvenv/lib/python3.10/site-packages/starlette/_exception_handler.py\", line 42, in wrapped_app\u001b[32m [repeated 4x across cluster]\u001b[0m\n",
      "\u001b[36m(ServeReplica:default:servedGPT pid=53697)\u001b[0m     await app(scope, receive, sender)\u001b[32m [repeated 2x across cluster]\u001b[0m\n",
      "\u001b[36m(ServeReplica:default:servedGPT pid=53697)\u001b[0m   File \"/Users/majid/Projects/nlp/nlpvenv/lib/python3.10/site-packages/fastapi/routing.py\", line 301, in app\u001b[32m [repeated 4x across cluster]\u001b[0m\n",
      "\u001b[36m(ServeReplica:default:servedGPT pid=53697)\u001b[0m     await route.handle(scope, receive, send)\n",
      "\u001b[36m(ServeReplica:default:servedGPT pid=53697)\u001b[0m   File \"/Users/majid/Projects/nlp/nlpvenv/lib/python3.10/site-packages/starlette/routing.py\", line 288, in handle\n",
      "\u001b[36m(ServeReplica:default:servedGPT pid=53697)\u001b[0m     await self.app(scope, receive, send)\n",
      "\u001b[36m(ServeReplica:default:servedGPT pid=53697)\u001b[0m     await wrap_app_handling_exceptions(app, request)(scope, receive, send)\n",
      "\u001b[36m(ServeReplica:default:servedGPT pid=53697)\u001b[0m     response = await f(request)\n",
      "\u001b[36m(ServeReplica:default:servedGPT pid=53697)\u001b[0m     raw_response = await run_endpoint_function(\n",
      "\u001b[36m(ServeReplica:default:servedGPT pid=53697)\u001b[0m   File \"/Users/majid/Projects/nlp/nlpvenv/lib/python3.10/site-packages/fastapi/routing.py\", line 212, in run_endpoint_function\n",
      "\u001b[36m(ServeReplica:default:servedGPT pid=53697)\u001b[0m     return await dependant.call(**values)\n",
      "\u001b[36m(ServeReplica:default:servedGPT pid=53697)\u001b[0m   File \"/var/folders/9p/9nbt0hzx4f71r06ht633_g4m0000gn/T/ipykernel_48837/3990099228.py\", line 26, in _predict\n",
      "\u001b[36m(ServeController pid=53695)\u001b[0m INFO 2024-11-30 18:24:39,064 controller 53695 deployment_state.py:2204 - Replica(id='jk7lce1l', deployment='servedGPT', app='default') is stopped.\n",
      "\u001b[36m(ProxyActor pid=53941)\u001b[0m INFO 2024-11-30 18:25:12,183 proxy 127.0.0.1 proxy.py:1202 - Proxy starting on node 9b76a285ba79a64ea7901b9e289e8766f607ee4311dff7dbabf6a011 (HTTP port: 8000).\n",
      "\u001b[36m(ServeController pid=53940)\u001b[0m INFO 2024-11-30 18:25:12,259 controller 53940 deployment_state.py:1617 - Deploying new version of Deployment(name='servedGPT', app='default') (initial target replicas: 1).\n",
      "\u001b[36m(ServeController pid=53940)\u001b[0m INFO 2024-11-30 18:25:12,361 controller 53940 deployment_state.py:1863 - Adding 1 replica to Deployment(name='servedGPT', app='default').\n"
     ]
    },
    {
     "name": "stdout",
     "output_type": "stream",
     "text": [
      "\u001b[36m(ServeReplica:default:servedGPT pid=53942)\u001b[0m this is your stupid <starlette.requests.Request object at 0x15bca8490>\n",
      "\u001b[36m(ServeReplica:default:servedGPT pid=53942)\u001b[0m your request data looks like this: {'prompt': 'hi this is the fist sentence'}\n",
      "\u001b[36m(ServeReplica:default:servedGPT pid=53942)\u001b[0m your prompt is: hi this is the fist sentence\n"
     ]
    },
    {
     "name": "stderr",
     "output_type": "stream",
     "text": [
      "\u001b[36m(ProxyActor pid=53941)\u001b[0m ERROR:    Exception in ASGI application\n",
      "\u001b[36m(ProxyActor pid=53941)\u001b[0m Traceback (most recent call last):\n",
      "\u001b[36m(ProxyActor pid=53941)\u001b[0m   File \"/Users/majid/Projects/nlp/nlpvenv/lib/python3.10/site-packages/uvicorn/protocols/http/httptools_impl.py\", line 409, in run_asgi\n",
      "\u001b[36m(ProxyActor pid=53941)\u001b[0m     result = await app(  # type: ignore[func-returns-value]\n",
      "\u001b[36m(ProxyActor pid=53941)\u001b[0m   File \"/Users/majid/Projects/nlp/nlpvenv/lib/python3.10/site-packages/uvicorn/middleware/proxy_headers.py\", line 60, in __call__\n",
      "\u001b[36m(ProxyActor pid=53941)\u001b[0m     return await self.app(scope, receive, send)\n",
      "\u001b[36m(ProxyActor pid=53941)\u001b[0m   File \"/Users/majid/Projects/nlp/nlpvenv/lib/python3.10/site-packages/ray/serve/_private/proxy.py\", line 1149, in __call__\n",
      "\u001b[36m(ProxyActor pid=53941)\u001b[0m     await self.app(scope, receive, send_with_request_id)\n",
      "\u001b[36m(ProxyActor pid=53941)\u001b[0m   File \"/Users/majid/Projects/nlp/nlpvenv/lib/python3.10/site-packages/ray/serve/_private/proxy.py\", line 883, in __call__\n",
      "\u001b[36m(ProxyActor pid=53941)\u001b[0m     await send(message)\n",
      "\u001b[36m(ProxyActor pid=53941)\u001b[0m   File \"/Users/majid/Projects/nlp/nlpvenv/lib/python3.10/site-packages/ray/serve/_private/proxy.py\", line 1147, in send_with_request_id\n",
      "\u001b[36m(ProxyActor pid=53941)\u001b[0m     await send(message)\n",
      "\u001b[36m(ProxyActor pid=53941)\u001b[0m   File \"/Users/majid/Projects/nlp/nlpvenv/lib/python3.10/site-packages/uvicorn/protocols/http/httptools_impl.py\", line 554, in send\n",
      "\u001b[36m(ProxyActor pid=53941)\u001b[0m     raise RuntimeError(msg % message_type)\n",
      "\u001b[36m(ProxyActor pid=53941)\u001b[0m RuntimeError: Unexpected ASGI message 'http.response.start' sent, after response already completed.\n",
      "\u001b[36m(ProxyActor pid=53941)\u001b[0m Unhandled error (suppress with 'RAY_IGNORE_UNHANDLED_ERRORS=1'): \u001b[36mray::ServeReplica:default:servedGPT.handle_request_with_rejection()\u001b[39m (pid=53942, ip=127.0.0.1, actor_id=05e105b95a4aba257de9bf5301000000, repr=<ray.serve._private.replica.ServeReplica:default:servedGPT object at 0x1226d2530>)\n",
      "\u001b[36m(ProxyActor pid=53941)\u001b[0m     async for result in self._call_user_generator(\n",
      "\u001b[36m(ProxyActor pid=53941)\u001b[0m   File \"/Users/majid/Projects/nlp/nlpvenv/lib/python3.10/site-packages/ray/serve/_private/replica.py\", line 507, in _call_user_generator\n",
      "\u001b[36m(ProxyActor pid=53941)\u001b[0m     raise e from None\n",
      "\u001b[36m(ProxyActor pid=53941)\u001b[0m   File \"/Users/majid/Projects/nlp/nlpvenv/lib/python3.10/site-packages/ray/serve/_private/replica.py\", line 1227, in call_user_method\n",
      "\u001b[36m(ProxyActor pid=53941)\u001b[0m     await self._call_func_or_gen(\n",
      "\u001b[36m(ProxyActor pid=53941)\u001b[0m   File \"/Users/majid/Projects/nlp/nlpvenv/lib/python3.10/site-packages/ray/serve/_private/replica.py\", line 938, in _call_func_or_gen\n",
      "\u001b[36m(ProxyActor pid=53941)\u001b[0m     result = await result\n",
      "\u001b[36m(ProxyActor pid=53941)\u001b[0m   File \"/Users/majid/Projects/nlp/nlpvenv/lib/python3.10/site-packages/ray/serve/_private/http_util.py\", line 497, in __call__\n",
      "\u001b[36m(ProxyActor pid=53941)\u001b[0m     await self._asgi_app(\n",
      "\u001b[36m(ProxyActor pid=53941)\u001b[0m   File \"/Users/majid/Projects/nlp/nlpvenv/lib/python3.10/site-packages/fastapi/applications.py\", line 1054, in __call__\n",
      "\u001b[36m(ProxyActor pid=53941)\u001b[0m     await super().__call__(scope, receive, send)\n",
      "\u001b[36m(ProxyActor pid=53941)\u001b[0m   File \"/Users/majid/Projects/nlp/nlpvenv/lib/python3.10/site-packages/starlette/applications.py\", line 113, in __call__\n",
      "\u001b[36m(ProxyActor pid=53941)\u001b[0m     await self.middleware_stack(scope, receive, send)\n",
      "\u001b[36m(ProxyActor pid=53941)\u001b[0m   File \"/Users/majid/Projects/nlp/nlpvenv/lib/python3.10/site-packages/starlette/middleware/errors.py\", line 187, in __call__\n",
      "\u001b[36m(ProxyActor pid=53941)\u001b[0m     raise exc\n",
      "\u001b[36m(ProxyActor pid=53941)\u001b[0m   File \"/Users/majid/Projects/nlp/nlpvenv/lib/python3.10/site-packages/starlette/middleware/errors.py\", line 165, in __call__\n",
      "\u001b[36m(ProxyActor pid=53941)\u001b[0m     await self.app(scope, receive, _send)\n",
      "\u001b[36m(ProxyActor pid=53941)\u001b[0m   File \"/Users/majid/Projects/nlp/nlpvenv/lib/python3.10/site-packages/starlette/middleware/exceptions.py\", line 62, in __call__\n",
      "\u001b[36m(ProxyActor pid=53941)\u001b[0m     await wrap_app_handling_exceptions(self.app, conn)(scope, receive, send)\n",
      "\u001b[36m(ProxyActor pid=53941)\u001b[0m   File \"/Users/majid/Projects/nlp/nlpvenv/lib/python3.10/site-packages/starlette/_exception_handler.py\", line 53, in wrapped_app\n",
      "\u001b[36m(ProxyActor pid=53941)\u001b[0m     raise exc\n",
      "\u001b[36m(ProxyActor pid=53941)\u001b[0m   File \"/Users/majid/Projects/nlp/nlpvenv/lib/python3.10/site-packages/starlette/_exception_handler.py\", line 42, in wrapped_app\n",
      "\u001b[36m(ProxyActor pid=53941)\u001b[0m     await app(scope, receive, sender)\n",
      "\u001b[36m(ProxyActor pid=53941)\u001b[0m   File \"/Users/majid/Projects/nlp/nlpvenv/lib/python3.10/site-packages/starlette/routing.py\", line 715, in __call__\n",
      "\u001b[36m(ProxyActor pid=53941)\u001b[0m     await self.middleware_stack(scope, receive, send)\n",
      "\u001b[36m(ProxyActor pid=53941)\u001b[0m   File \"/Users/majid/Projects/nlp/nlpvenv/lib/python3.10/site-packages/starlette/routing.py\", line 735, in app\n",
      "\u001b[36m(ProxyActor pid=53941)\u001b[0m     await route.handle(scope, receive, send)\n",
      "\u001b[36m(ProxyActor pid=53941)\u001b[0m   File \"/Users/majid/Projects/nlp/nlpvenv/lib/python3.10/site-packages/starlette/routing.py\", line 288, in handle\n",
      "\u001b[36m(ProxyActor pid=53941)\u001b[0m     await self.app(scope, receive, send)\n",
      "\u001b[36m(ProxyActor pid=53941)\u001b[0m   File \"/Users/majid/Projects/nlp/nlpvenv/lib/python3.10/site-packages/starlette/routing.py\", line 76, in app\n",
      "\u001b[36m(ProxyActor pid=53941)\u001b[0m     await wrap_app_handling_exceptions(app, request)(scope, receive, send)\n",
      "\u001b[36m(ProxyActor pid=53941)\u001b[0m   File \"/Users/majid/Projects/nlp/nlpvenv/lib/python3.10/site-packages/starlette/_exception_handler.py\", line 53, in wrapped_app\n",
      "\u001b[36m(ProxyActor pid=53941)\u001b[0m     raise exc\n",
      "\u001b[36m(ProxyActor pid=53941)\u001b[0m   File \"/Users/majid/Projects/nlp/nlpvenv/lib/python3.10/site-packages/starlette/_exception_handler.py\", line 42, in wrapped_app\n",
      "\u001b[36m(ProxyActor pid=53941)\u001b[0m     await app(scope, receive, sender)\n",
      "\u001b[36m(ProxyActor pid=53941)\u001b[0m   File \"/Users/majid/Projects/nlp/nlpvenv/lib/python3.10/site-packages/starlette/routing.py\", line 73, in app\n",
      "\u001b[36m(ProxyActor pid=53941)\u001b[0m     response = await f(request)\n",
      "\u001b[36m(ProxyActor pid=53941)\u001b[0m   File \"/Users/majid/Projects/nlp/nlpvenv/lib/python3.10/site-packages/fastapi/routing.py\", line 301, in app\n",
      "\u001b[36m(ProxyActor pid=53941)\u001b[0m     raw_response = await run_endpoint_function(\n",
      "\u001b[36m(ProxyActor pid=53941)\u001b[0m   File \"/Users/majid/Projects/nlp/nlpvenv/lib/python3.10/site-packages/fastapi/routing.py\", line 212, in run_endpoint_function\n",
      "\u001b[36m(ProxyActor pid=53941)\u001b[0m     return await dependant.call(**values)\n",
      "\u001b[36m(ProxyActor pid=53941)\u001b[0m   File \"/var/folders/9p/9nbt0hzx4f71r06ht633_g4m0000gn/T/ipykernel_48837/3990099228.py\", line 26, in _predict\n",
      "\u001b[36m(ProxyActor pid=53941)\u001b[0m NameError: name 'model' is not defined\n",
      "\u001b[36m(ServeReplica:default:servedGPT pid=53942)\u001b[0m WARNING 2024-11-30 18:25:22,421 default_servedGPT cvvva6ub 04d609f5-87a7-4758-940c-ed32f7a3470b /predict/ 3990099228.py:16 - this is your stupid <starlette.requests.Request object at 0x15bca8490>\n",
      "\u001b[36m(ServeReplica:default:servedGPT pid=53942)\u001b[0m INFO 2024-11-30 18:25:22,423 default_servedGPT cvvva6ub 04d609f5-87a7-4758-940c-ed32f7a3470b /predict/ 3990099228.py:19 - your request data looks like this: {'prompt': 'hi this is the fist sentence'}\n",
      "\u001b[36m(ServeReplica:default:servedGPT pid=53942)\u001b[0m INFO 2024-11-30 18:25:22,423 default_servedGPT cvvva6ub 04d609f5-87a7-4758-940c-ed32f7a3470b /predict/ 3990099228.py:22 - your prompt is: hi this is the fist sentence\n",
      "\u001b[36m(ServeReplica:default:servedGPT pid=53942)\u001b[0m ERROR 2024-11-30 18:25:22,424 default_servedGPT cvvva6ub 04d609f5-87a7-4758-940c-ed32f7a3470b /predict/ replica.py:417 - Request failed.\n",
      "\u001b[36m(ServeReplica:default:servedGPT pid=53942)\u001b[0m   File \"/Users/majid/Projects/nlp/nlpvenv/lib/python3.10/site-packages/ray/serve/_private/replica.py\", line 403, in _wrap_user_method_call\n",
      "\u001b[36m(ServeReplica:default:servedGPT pid=53942)\u001b[0m     yield\n",
      "\u001b[36m(ServeReplica:default:servedGPT pid=53942)\u001b[0m   File \"/Users/majid/Projects/nlp/nlpvenv/lib/python3.10/site-packages/ray/serve/_private/replica.py\", line 594, in handle_request_with_rejection\n",
      "\u001b[36m(ServeReplica:default:servedGPT pid=53942)\u001b[0m INFO 2024-11-30 18:25:22,428 default_servedGPT cvvva6ub 04d609f5-87a7-4758-940c-ed32f7a3470b /predict/ replica.py:431 - __CALL__ ERROR 13.4ms\n",
      "\u001b[36m(ServeController pid=53940)\u001b[0m INFO 2024-11-30 18:27:08,256 controller 53940 deployment_state.py:1879 - Removing 1 replica from Deployment(name='servedGPT', app='default').\n",
      "\u001b[36m(ServeReplica:default:servedGPT pid=53942)\u001b[0m Traceback (most recent call last):\n",
      "\u001b[36m(ServeReplica:default:servedGPT pid=53942)\u001b[0m   File \"/Users/majid/Projects/nlp/nlpvenv/lib/python3.10/site-packages/starlette/routing.py\", line 715, in __call__\u001b[32m [repeated 7x across cluster]\u001b[0m\n",
      "\u001b[36m(ServeReplica:default:servedGPT pid=53942)\u001b[0m     async for result in self._call_user_generator(\n",
      "\u001b[36m(ServeReplica:default:servedGPT pid=53942)\u001b[0m   File \"/Users/majid/Projects/nlp/nlpvenv/lib/python3.10/site-packages/ray/serve/_private/replica.py\", line 507, in _call_user_generator\n",
      "\u001b[36m(ServeReplica:default:servedGPT pid=53942)\u001b[0m     raise e from None\n",
      "\u001b[36m(ServeReplica:default:servedGPT pid=53942)\u001b[0m   File \"/Users/majid/Projects/nlp/nlpvenv/lib/python3.10/site-packages/ray/serve/_private/replica.py\", line 1227, in call_user_method\n",
      "\u001b[36m(ServeReplica:default:servedGPT pid=53942)\u001b[0m     await self._call_func_or_gen(\n",
      "\u001b[36m(ServeReplica:default:servedGPT pid=53942)\u001b[0m   File \"/Users/majid/Projects/nlp/nlpvenv/lib/python3.10/site-packages/ray/serve/_private/replica.py\", line 938, in _call_func_or_gen\n",
      "\u001b[36m(ServeReplica:default:servedGPT pid=53942)\u001b[0m     result = await result\n",
      "\u001b[36m(ServeReplica:default:servedGPT pid=53942)\u001b[0m     await self._asgi_app(\n",
      "\u001b[36m(ServeReplica:default:servedGPT pid=53942)\u001b[0m     await super().__call__(scope, receive, send)\n",
      "\u001b[36m(ServeReplica:default:servedGPT pid=53942)\u001b[0m     await self.middleware_stack(scope, receive, send)\u001b[32m [repeated 2x across cluster]\u001b[0m\n",
      "\u001b[36m(ServeReplica:default:servedGPT pid=53942)\u001b[0m     raise exc\u001b[32m [repeated 3x across cluster]\u001b[0m\n",
      "\u001b[36m(ServeReplica:default:servedGPT pid=53942)\u001b[0m     await self.app(scope, receive, _send)\n",
      "\u001b[36m(ServeReplica:default:servedGPT pid=53942)\u001b[0m     await wrap_app_handling_exceptions(self.app, conn)(scope, receive, send)\n",
      "\u001b[36m(ServeReplica:default:servedGPT pid=53942)\u001b[0m   File \"/Users/majid/Projects/nlp/nlpvenv/lib/python3.10/site-packages/starlette/_exception_handler.py\", line 42, in wrapped_app\u001b[32m [repeated 4x across cluster]\u001b[0m\n",
      "\u001b[36m(ServeReplica:default:servedGPT pid=53942)\u001b[0m     await app(scope, receive, sender)\u001b[32m [repeated 2x across cluster]\u001b[0m\n",
      "\u001b[36m(ServeReplica:default:servedGPT pid=53942)\u001b[0m   File \"/Users/majid/Projects/nlp/nlpvenv/lib/python3.10/site-packages/fastapi/routing.py\", line 301, in app\u001b[32m [repeated 4x across cluster]\u001b[0m\n",
      "\u001b[36m(ServeReplica:default:servedGPT pid=53942)\u001b[0m     await route.handle(scope, receive, send)\n",
      "\u001b[36m(ServeReplica:default:servedGPT pid=53942)\u001b[0m   File \"/Users/majid/Projects/nlp/nlpvenv/lib/python3.10/site-packages/starlette/routing.py\", line 288, in handle\n",
      "\u001b[36m(ServeReplica:default:servedGPT pid=53942)\u001b[0m     await self.app(scope, receive, send)\n",
      "\u001b[36m(ServeReplica:default:servedGPT pid=53942)\u001b[0m     await wrap_app_handling_exceptions(app, request)(scope, receive, send)\n",
      "\u001b[36m(ServeReplica:default:servedGPT pid=53942)\u001b[0m     response = await f(request)\n",
      "\u001b[36m(ServeReplica:default:servedGPT pid=53942)\u001b[0m     raw_response = await run_endpoint_function(\n",
      "\u001b[36m(ServeReplica:default:servedGPT pid=53942)\u001b[0m   File \"/Users/majid/Projects/nlp/nlpvenv/lib/python3.10/site-packages/fastapi/routing.py\", line 212, in run_endpoint_function\n",
      "\u001b[36m(ServeReplica:default:servedGPT pid=53942)\u001b[0m     return await dependant.call(**values)\n",
      "\u001b[36m(ServeReplica:default:servedGPT pid=53942)\u001b[0m   File \"/var/folders/9p/9nbt0hzx4f71r06ht633_g4m0000gn/T/ipykernel_48837/3990099228.py\", line 26, in _predict\n",
      "\u001b[36m(ServeReplica:default:servedGPT pid=53942)\u001b[0m NameError: name 'model' is not defined\n",
      "\u001b[36m(ServeController pid=53940)\u001b[0m INFO 2024-11-30 18:27:10,304 controller 53940 deployment_state.py:2204 - Replica(id='cvvva6ub', deployment='servedGPT', app='default') is stopped.\n",
      "\u001b[36m(ServeController pid=54051)\u001b[0m INFO 2024-11-30 18:31:09,931 controller 54051 deployment_state.py:1617 - Deploying new version of Deployment(name='servedGPT', app='default') (initial target replicas: 1).\n",
      "\u001b[36m(ProxyActor pid=54052)\u001b[0m INFO 2024-11-30 18:31:09,868 proxy 127.0.0.1 proxy.py:1202 - Proxy starting on node 9b76a285ba79a64ea7901b9e289e8766f607ee4311dff7dbabf6a011 (HTTP port: 8000).\n",
      "\u001b[36m(ServeController pid=54051)\u001b[0m INFO 2024-11-30 18:31:10,034 controller 54051 deployment_state.py:1863 - Adding 1 replica to Deployment(name='servedGPT', app='default').\n",
      "\u001b[36m(ServeReplica:default:servedGPT pid=54055)\u001b[0m WARNING 2024-11-30 18:31:20,920 default_servedGPT 1mnq78nr 3becfe9b-f067-4abc-bbfa-f386ecd721e2 /predict/ 1358525140.py:16 - this is your stupid <starlette.requests.Request object at 0x1393926b0>\n",
      "\u001b[36m(ServeReplica:default:servedGPT pid=54055)\u001b[0m INFO 2024-11-30 18:31:20,923 default_servedGPT 1mnq78nr 3becfe9b-f067-4abc-bbfa-f386ecd721e2 /predict/ 1358525140.py:18 - your request data looks like this: {'prompt': 'this is a test prompt'}\n",
      "\u001b[36m(ServeReplica:default:servedGPT pid=54055)\u001b[0m INFO 2024-11-30 18:31:20,923 default_servedGPT 1mnq78nr 3becfe9b-f067-4abc-bbfa-f386ecd721e2 /predict/ 1358525140.py:20 - your prompt is: this is a test prompt\n",
      "\u001b[36m(ServeReplica:default:servedGPT pid=54055)\u001b[0m INFO 2024-11-30 18:31:21,008 default_servedGPT 1mnq78nr 3becfe9b-f067-4abc-bbfa-f386ecd721e2 /predict/ replica.py:431 - __CALL__ OK 95.1ms\n",
      "\u001b[36m(ServeReplica:default:servedGPT pid=54055)\u001b[0m WARNING 2024-11-30 18:31:30,087 default_servedGPT 1mnq78nr 0f615a99-dae7-4830-a2cd-d19cfe55cf11 /predict/ 1358525140.py:16 - this is your stupid <starlette.requests.Request object at 0x1393924d0>\n",
      "\u001b[36m(ServeReplica:default:servedGPT pid=54055)\u001b[0m INFO 2024-11-30 18:31:30,088 default_servedGPT 1mnq78nr 0f615a99-dae7-4830-a2cd-d19cfe55cf11 /predict/ 1358525140.py:18 - your request data looks like this: {'prompt': 'hi this is the fist sentence'}\n",
      "\u001b[36m(ServeReplica:default:servedGPT pid=54055)\u001b[0m INFO 2024-11-30 18:31:30,088 default_servedGPT 1mnq78nr 0f615a99-dae7-4830-a2cd-d19cfe55cf11 /predict/ 1358525140.py:20 - your prompt is: hi this is the fist sentence\n",
      "\u001b[36m(ServeReplica:default:servedGPT pid=54055)\u001b[0m INFO 2024-11-30 18:31:30,187 default_servedGPT 1mnq78nr 0f615a99-dae7-4830-a2cd-d19cfe55cf11 /predict/ replica.py:431 - __CALL__ OK 102.6ms\n",
      "\u001b[36m(ServeController pid=54051)\u001b[0m INFO 2024-11-30 18:31:37,219 controller 54051 deployment_state.py:1879 - Removing 1 replica from Deployment(name='servedGPT', app='default').\n",
      "\u001b[36m(ServeController pid=54051)\u001b[0m INFO 2024-11-30 18:31:39,313 controller 54051 deployment_state.py:2204 - Replica(id='1mnq78nr', deployment='servedGPT', app='default') is stopped.\n"
     ]
    }
   ],
   "source": [
    "if ray.is_initialized():\n",
    "    ray.shutdown()\n",
    "ray.init()"
   ]
  },
  {
   "cell_type": "code",
   "execution_count": 3,
   "id": "9cf07e22-7924-4678-be61-5427f30a24e5",
   "metadata": {},
   "outputs": [
    {
     "data": {
      "text/plain": [
       "{'CPU': 10.0,\n",
       " 'memory': 7042033255.0,\n",
       " 'node:127.0.0.1': 1.0,\n",
       " 'node:__internal_head__': 1.0,\n",
       " 'object_store_memory': 2147483648.0}"
      ]
     },
     "execution_count": 3,
     "metadata": {},
     "output_type": "execute_result"
    }
   ],
   "source": [
    "ray.cluster_resources()"
   ]
  },
  {
   "cell_type": "code",
   "execution_count": 4,
   "id": "03775a69-e50f-487c-83ff-1fa89958c84f",
   "metadata": {},
   "outputs": [],
   "source": [
    "#system\n",
    "import os\n",
    "import random\n",
    "import tempfile\n",
    "from urllib.parse import urlparse\n",
    "# torch\n",
    "import torch\n",
    "import torch.nn as nn\n",
    "from torch.nn import functional as F\n",
    "from torch.nn.parallel import DistributedDataParallel\n",
    "# ray\n",
    "from ray.data.preprocessor import Preprocessor\n",
    "from ray.air.config import CheckpointConfig, DatasetConfig, RunConfig, ScalingConfig\n",
    "import ray.train as raytrain\n",
    "from ray.train import Checkpoint, session\n",
    "from ray.train.torch import TorchCheckpoint, TorchTrainer\n",
    "\n",
    "ray.data.DatasetContext.get_current().execution_options.preserve_order = True  # deterministic"
   ]
  },
  {
   "cell_type": "code",
   "execution_count": 5,
   "id": "7ccc5153-6141-4b1c-b756-7479661c8b69",
   "metadata": {},
   "outputs": [],
   "source": [
    "def read_data():\n",
    "    with open('/Users/majid/Projects/nlp/GPT/tinyshakespeare.txt', 'r', encoding='utf-8') as f:\n",
    "        allshakespeare = f.read()\n",
    "\n",
    "    vocab = sorted(list(set(allshakespeare)))\n",
    "    ctoi = {c: i for i, c in enumerate(vocab)}\n",
    "    itoc = {i: c for i, c in enumerate(vocab)}\n",
    "    encode = lambda s: [ctoi[x] for x in s]\n",
    "    decode = lambda l: ''.join([itoc[x] for x in l])\n",
    "    n = int(len(allshakespeare)*0.9)\n",
    "    train_data = torch.tensor(encode(allshakespeare[:n]), dtype=torch.long)\n",
    "    val_data = torch.tensor(encode(allshakespeare[n:]), dtype=torch.long)\n",
    "    return train_data, val_data, encode, decode, len(vocab)"
   ]
  },
  {
   "cell_type": "code",
   "execution_count": 6,
   "id": "702ecfd2-29de-4650-9734-32756b25fcaf",
   "metadata": {},
   "outputs": [],
   "source": [
    "train_data, val_data, encode, decode, vocab_size = read_data()"
   ]
  },
  {
   "cell_type": "markdown",
   "id": "ff66d7dc-1eaa-4ba9-a23c-932ca4d3c533",
   "metadata": {},
   "source": [
    "## build the model"
   ]
  },
  {
   "cell_type": "code",
   "execution_count": 7,
   "id": "32583ad4-0af0-4a5e-92cf-fcf72f8a31ac",
   "metadata": {},
   "outputs": [
    {
     "data": {
      "text/plain": [
       "<torch._C.Generator at 0x1189e1090>"
      ]
     },
     "execution_count": 7,
     "metadata": {},
     "output_type": "execute_result"
    }
   ],
   "source": [
    "# hyper params\n",
    "context_size = 8\n",
    "batch_size = 64\n",
    "max_iters = 5000\n",
    "eval_interval = 500\n",
    "learning_rate = 3e-4\n",
    "device = 'cuda' if torch.cuda.is_available() else 'cpu'\n",
    "eval_iters = 200\n",
    "n_embed = 32\n",
    "n_head = 4\n",
    "n_blocks = 3\n",
    "dropout = 0.2\n",
    "torch.manual_seed(1337)"
   ]
  },
  {
   "cell_type": "code",
   "execution_count": 8,
   "id": "e356a507-db64-4ed8-83f9-12af4048053d",
   "metadata": {},
   "outputs": [],
   "source": [
    "class AttentionHead(nn.Module):\n",
    "    def __init__(self, head_size, n_embed=32, dropout=0.2) -> None:\n",
    "        super().__init__()\n",
    "        self.head_size = head_size\n",
    "        self.WQ = nn.Linear(n_embed, head_size, bias=False)\n",
    "        self.WK = nn.Linear(n_embed, head_size, bias=False)\n",
    "        self.WV = nn.Linear(n_embed, head_size, bias=False)\n",
    "        self.register_buffer('tril', torch.tril(torch.ones(context_size, context_size)))\n",
    "        self.dropout = nn.Dropout(dropout)\n",
    "    \n",
    "    def forward(self, x):\n",
    "        \"\"\"\n",
    "        x input of size (B, T, embedding_size)\n",
    "        \"\"\"\n",
    "        B, T, embedding_size = x.shape\n",
    "        q = self.WQ(x)  # q of shape (B, T, head_size)\n",
    "        k = self.WK(x)\n",
    "        v = self.WV(x)\n",
    "\n",
    "        scores = q@k.transpose(-2, -1) * self.head_size**-0.5  # scores of shape (B, T, T)\n",
    "        scores = scores.masked_fill(self.tril[:T, :T]==0, value=-torch.inf)\n",
    "        attentions = F.softmax(scores, dim=-1)\n",
    "        attentions = self.dropout(attentions)\n",
    "        output = attentions@v  # output of size (B, T, head_size)\n",
    "\n",
    "        return output\n",
    "\n",
    "\n",
    "class FeedFroward(nn.Module):\n",
    "    def __init__(self, n_embed=32, dropout=0.2):\n",
    "        super().__init__()\n",
    "        self.feedforward = nn.Sequential(\n",
    "            nn.Linear(n_embed, n_embed*4),\n",
    "            nn.ReLU(),\n",
    "            nn.Linear(n_embed*4, n_embed),\n",
    "            nn.Dropout(dropout)\n",
    "        )\n",
    "    \n",
    "    def forward(self, x):\n",
    "        return self.feedforward(x)\n",
    "\n",
    "\n",
    "class DecoderBlock(nn.Module):\n",
    "    def __init__(self, n_heads, n_embed=32) -> None:\n",
    "        super().__init__()\n",
    "        head_size = n_embed // n_heads\n",
    "        self.MultiHeadAttention = nn.ModuleList([AttentionHead(head_size) for _ in range(n_heads)])\n",
    "        self.project = nn.Linear(n_embed, n_embed)\n",
    "        self.layer_norm1 = nn.LayerNorm(n_embed)\n",
    "        self.feedForward = FeedFroward()\n",
    "        self.layer_norm2 = nn.LayerNorm(n_embed)\n",
    "    \n",
    "    def forward(self, x):\n",
    "        \"\"\"\n",
    "        x is of shape (B, T, n_embed)\n",
    "        \"\"\"\n",
    "        x = self.layer_norm1(x)\n",
    "        attentioned = torch.concat([attention(x) for attention in self.MultiHeadAttention], dim=-1)\n",
    "        x = x + self.project(attentioned)\n",
    "        x = self.layer_norm2(x)\n",
    "        x = x + self.feedForward(x)\n",
    "        return x\n",
    "\n",
    "\n",
    "class GPT(nn.Module):\n",
    "    def __init__(self, n_heads, n_blocks, vocab_size, n_embed=32):\n",
    "        super().__init__()\n",
    "        self.embedding = nn.Embedding(vocab_size, n_embed)\n",
    "        self.pos_embed = nn.Embedding(context_size, n_embed)\n",
    "        self.decoders = nn.Sequential(*[DecoderBlock(n_heads) for _ in range(n_blocks)], nn.LayerNorm(n_embed))\n",
    "        # self.layer_norm = nn.LayerNorm(n_embed)\n",
    "        self.lm_head = nn.Linear(n_embed, vocab_size)\n",
    "\n",
    "    def forward(self, x, targets=None):\n",
    "        \"\"\"\n",
    "        x: shape (B, T)\n",
    "        targets: (B, T)\n",
    "        \"\"\"\n",
    "        B, T = x.shape\n",
    "        embeddings = self.embedding(x) \n",
    "        pos_embeds = self.pos_embed(torch.arange(T, device=device))  # T * n_embed\n",
    "        x = embeddings + pos_embeds\n",
    "        x = self.decoders(x)\n",
    "        # x = self.layer_norm(x)\n",
    "        logits = self.lm_head(x)\n",
    "        B, T, C = logits.shape  # logits shape (B, T, C)\n",
    "        \n",
    "        if targets is not None:\n",
    "            logits = logits.view(B*T, C)\n",
    "            targets = targets.view(B*T)\n",
    "            loss = F.cross_entropy(logits, targets)\n",
    "            return logits, loss\n",
    "        else:\n",
    "            return logits, None\n",
    "    \n",
    "    @torch.inference_mode()\n",
    "    def generate(self, x, max_size=100):\n",
    "        \"\"\"\n",
    "        x of shape (B, T)\n",
    "        \"\"\"\n",
    "        self.eval()\n",
    "        for step in range(max_size):\n",
    "            logits, loss = self(x[:, -context_size:])\n",
    "            new_token_logits = logits[:, -1, :]\n",
    "            probs = F.softmax(new_token_logits, dim=-1)\n",
    "            next_tokens = torch.multinomial(probs, num_samples=1)  \n",
    "            x = torch.concat((x, next_tokens), dim=1)\n",
    "        return x\n"
   ]
  },
  {
   "cell_type": "markdown",
   "id": "32790620-aa1b-4b93-bbad-c520575b0657",
   "metadata": {},
   "source": [
    "## train the model"
   ]
  },
  {
   "cell_type": "code",
   "execution_count": 9,
   "id": "49ccda5a-41b8-4301-a346-b0595c7a94d8",
   "metadata": {},
   "outputs": [],
   "source": [
    "def get_batch(data, split='train'):\n",
    "    # data = train_data if split == 'train' else val_data\n",
    "    idx = torch.randint(high=len(data)-context_size, size=(batch_size,))\n",
    "    x = torch.stack([data[i:i+context_size] for i in idx])\n",
    "    y = torch.stack([data[i+1:i+context_size+1] for i in idx])\n",
    "    return x, y"
   ]
  },
  {
   "cell_type": "code",
   "execution_count": 10,
   "id": "1bfc8c20-b989-4f1a-b057-baaddbb3bc06",
   "metadata": {},
   "outputs": [],
   "source": [
    "def train_step(model, train_data, batch_size, optimizer, n_steps):\n",
    "    model.train()\n",
    "    total_loss = 0\n",
    "    for step in range(n_steps):\n",
    "        xb, yb = get_batch(train_data, split='train')\n",
    "        xb.to(device)\n",
    "        yb.to(device)\n",
    "        logits, loss = model(xb, yb)\n",
    "        optimizer.zero_grad(set_to_none=True)\n",
    "        loss.backward()\n",
    "        optimizer.step()\n",
    "        total_loss += (loss.detach().item() - total_loss) / (step + 1)\n",
    "    return total_loss"
   ]
  },
  {
   "cell_type": "code",
   "execution_count": 11,
   "id": "3ce067be-d541-4a02-a09d-906f9b726ce3",
   "metadata": {},
   "outputs": [],
   "source": [
    "@torch.no_grad()\n",
    "def eval_step(model, val_data, batch_size, n_steps):\n",
    "    model.eval()\n",
    "    total_loss = 0\n",
    "    with torch.inference_mode():\n",
    "        for step in range(n_steps):\n",
    "            xb, yb = get_batch(val_data, split='eval')\n",
    "            xb.to(device)\n",
    "            yb.to(device)\n",
    "            logits, loss = model(xb, yb)\n",
    "            total_loss += (loss.item() - total_loss) / (step + 1)\n",
    "    return total_loss"
   ]
  },
  {
   "cell_type": "code",
   "execution_count": 52,
   "id": "c7ecf9ef-2985-46c9-a8c2-0d4aac9ad18a",
   "metadata": {},
   "outputs": [],
   "source": [
    "# Training loop\n",
    "def train_loop_per_worker(config):\n",
    "    # Hyperparameters\n",
    "    dropout_p = config[\"dropout_p\"]\n",
    "    lr = config[\"lr\"]\n",
    "    num_epochs = config[\"num_epochs\"]\n",
    "    batch_size = config[\"batch_size\"]\n",
    "    n_train_steps = config[\"n_train_steps\"]\n",
    "    n_eval_steps = config[\"n_eval_steps\"]\n",
    "    n_heads = config[\"n_heads\"]\n",
    "    n_blocks = config[\"n_blocks\"]\n",
    "\n",
    "    # Get datasets\n",
    "    torch.manual_seed(1337) #set seed\n",
    "    train_data, val_data, encode, decode, vocab_size = read_data()\n",
    "   \n",
    "\n",
    "    # Model \n",
    "    gpt = GPT(n_heads, n_blocks, vocab_size)\n",
    "    gpt = raytrain.torch.prepare_model(gpt)\n",
    "\n",
    "    # Training components\n",
    "    optimizer = torch.optim.AdamW(gpt.parameters(), lr=lr)\n",
    "\n",
    "    # Training\n",
    "    batch_size_per_worker = batch_size // raytrain.get_context().get_world_size()\n",
    "    for epoch in range(num_epochs):\n",
    "        # Step\n",
    "        train_loss = train_step(gpt, train_data, batch_size_per_worker, optimizer, n_train_steps)\n",
    "        val_loss = eval_step(gpt, val_data, batch_size_per_worker, n_eval_steps)\n",
    "\n",
    "        # Checkpoint\n",
    "        base_model = gpt.module if isinstance(gpt, DistributedDataParallel) else gpt\n",
    "        checkpoint_dir = tempfile.mkdtemp()\n",
    "        torch.save(\n",
    "            {\"model_state_dict\": base_model.state_dict()},\n",
    "            os.path.join(checkpoint_dir, \"model.pt\"),\n",
    "        )\n",
    "        checkpoint = Checkpoint.from_directory(checkpoint_dir)\n",
    "\n",
    "        # Report metrics and checkpoint.\n",
    "        raytrain.report({\"epoch\": epoch, \"train_loss\": train_loss, \"val_loss\": val_loss}, \n",
    "                        checkpoint=checkpoint)"
   ]
  },
  {
   "cell_type": "code",
   "execution_count": 13,
   "id": "bd0a1b8d-c19f-407b-a980-5a112ef45847",
   "metadata": {},
   "outputs": [],
   "source": [
    "train_config = {\"dropout_p\": 0.2,\n",
    "          \"lr\": 3e-4,\n",
    "          \"num_epochs\": 3,\n",
    "          \"batch_size\": 64,\n",
    "          \"n_train_steps\": 2000,\n",
    "          \"n_eval_steps\": 100,\n",
    "          \"n_heads\": 4,\n",
    "          \"n_blocks\": 3\n",
    "          }"
   ]
  },
  {
   "cell_type": "code",
   "execution_count": 14,
   "id": "c5265de8-c318-4fae-a32a-30e0d566dd55",
   "metadata": {},
   "outputs": [],
   "source": [
    "scaling_config = ScalingConfig(\n",
    "    num_workers=6,\n",
    ")"
   ]
  },
  {
   "cell_type": "code",
   "execution_count": 17,
   "id": "c4830202-2a84-49a6-8312-099f2d6d0b12",
   "metadata": {},
   "outputs": [],
   "source": [
    "checkpoint_config = CheckpointConfig(num_to_keep=1, checkpoint_score_attribute=\"val_loss\", checkpoint_score_order=\"min\")"
   ]
  },
  {
   "cell_type": "code",
   "execution_count": 83,
   "id": "abc0364d-0b4c-465f-bd31-92d4fa96b961",
   "metadata": {},
   "outputs": [],
   "source": [
    "run_config = RunConfig(name=\"gpt\", checkpoint_config=checkpoint_config, storage_path=os.path.abspath(\"./ray_results\"))"
   ]
  },
  {
   "cell_type": "code",
   "execution_count": 143,
   "id": "f7172aed-767b-4aca-b4a6-4e867d7db389",
   "metadata": {},
   "outputs": [],
   "source": [
    "trainer = TorchTrainer(\n",
    "    train_loop_per_worker=train_loop_per_worker,\n",
    "    train_loop_config=train_config,\n",
    "    scaling_config=scaling_config,\n",
    "    run_config=run_config,\n",
    ")"
   ]
  },
  {
   "cell_type": "code",
   "execution_count": 144,
   "id": "22ef42c4-5c9a-49fe-92b2-0e578641c155",
   "metadata": {
    "collapsed": true,
    "jupyter": {
     "outputs_hidden": true
    },
    "scrolled": true
   },
   "outputs": [
    {
     "name": "stderr",
     "output_type": "stream",
     "text": [
      "2024-11-21 18:49:05,597\tINFO tune.py:616 -- [output] This uses the legacy output and progress reporter, as Jupyter notebooks are not supported by the new engine, yet. For more information, please see https://github.com/ray-project/ray/issues/36949\n"
     ]
    },
    {
     "name": "stdout",
     "output_type": "stream",
     "text": [
      "== Status ==\n",
      "Current time: 2024-11-21 18:49:05 (running for 00:00:00.11)\n",
      "Using FIFO scheduling algorithm.\n",
      "Logical resource usage: 7.0/10 CPUs, 0/0 GPUs\n",
      "Result logdir: /tmp/ray/session_2024-11-21_17-12-48_899457_5746/artifacts/2024-11-21_18-49-05/gpt/driver_artifacts\n",
      "Number of trials: 1/1 (1 PENDING)\n",
      "\n",
      "\n",
      "== Status ==\n",
      "Current time: 2024-11-21 18:49:10 (running for 00:00:05.20)\n",
      "Using FIFO scheduling algorithm.\n",
      "Logical resource usage: 7.0/10 CPUs, 0/0 GPUs\n",
      "Result logdir: /tmp/ray/session_2024-11-21_17-12-48_899457_5746/artifacts/2024-11-21_18-49-05/gpt/driver_artifacts\n",
      "Number of trials: 1/1 (1 RUNNING)\n",
      "\n",
      "\n",
      "== Status ==\n",
      "Current time: 2024-11-21 18:49:15 (running for 00:00:10.30)\n",
      "Using FIFO scheduling algorithm.\n",
      "Logical resource usage: 7.0/10 CPUs, 0/0 GPUs\n",
      "Result logdir: /tmp/ray/session_2024-11-21_17-12-48_899457_5746/artifacts/2024-11-21_18-49-05/gpt/driver_artifacts\n",
      "Number of trials: 1/1 (1 RUNNING)\n",
      "\n",
      "\n",
      "== Status ==\n",
      "Current time: 2024-11-21 18:49:20 (running for 00:00:15.40)\n",
      "Using FIFO scheduling algorithm.\n",
      "Logical resource usage: 7.0/10 CPUs, 0/0 GPUs\n",
      "Result logdir: /tmp/ray/session_2024-11-21_17-12-48_899457_5746/artifacts/2024-11-21_18-49-05/gpt/driver_artifacts\n",
      "Number of trials: 1/1 (1 RUNNING)\n",
      "\n",
      "\n",
      "== Status ==\n",
      "Current time: 2024-11-21 18:49:26 (running for 00:00:20.50)\n",
      "Using FIFO scheduling algorithm.\n",
      "Logical resource usage: 7.0/10 CPUs, 0/0 GPUs\n",
      "Result logdir: /tmp/ray/session_2024-11-21_17-12-48_899457_5746/artifacts/2024-11-21_18-49-05/gpt/driver_artifacts\n",
      "Number of trials: 1/1 (1 RUNNING)\n",
      "\n",
      "\n",
      "== Status ==\n",
      "Current time: 2024-11-21 18:49:31 (running for 00:00:25.58)\n",
      "Using FIFO scheduling algorithm.\n",
      "Logical resource usage: 7.0/10 CPUs, 0/0 GPUs\n",
      "Result logdir: /tmp/ray/session_2024-11-21_17-12-48_899457_5746/artifacts/2024-11-21_18-49-05/gpt/driver_artifacts\n",
      "Number of trials: 1/1 (1 RUNNING)\n",
      "\n",
      "\n",
      "== Status ==\n",
      "Current time: 2024-11-21 18:49:36 (running for 00:00:30.68)\n",
      "Using FIFO scheduling algorithm.\n",
      "Logical resource usage: 7.0/10 CPUs, 0/0 GPUs\n",
      "Result logdir: /tmp/ray/session_2024-11-21_17-12-48_899457_5746/artifacts/2024-11-21_18-49-05/gpt/driver_artifacts\n",
      "Number of trials: 1/1 (1 RUNNING)\n",
      "\n",
      "\n",
      "== Status ==\n",
      "Current time: 2024-11-21 18:49:41 (running for 00:00:35.78)\n",
      "Using FIFO scheduling algorithm.\n",
      "Logical resource usage: 7.0/10 CPUs, 0/0 GPUs\n",
      "Result logdir: /tmp/ray/session_2024-11-21_17-12-48_899457_5746/artifacts/2024-11-21_18-49-05/gpt/driver_artifacts\n",
      "Number of trials: 1/1 (1 RUNNING)\n",
      "\n",
      "\n",
      "== Status ==\n",
      "Current time: 2024-11-21 18:49:46 (running for 00:00:40.87)\n",
      "Using FIFO scheduling algorithm.\n",
      "Logical resource usage: 7.0/10 CPUs, 0/0 GPUs\n",
      "Result logdir: /tmp/ray/session_2024-11-21_17-12-48_899457_5746/artifacts/2024-11-21_18-49-05/gpt/driver_artifacts\n",
      "Number of trials: 1/1 (1 RUNNING)\n",
      "\n",
      "\n",
      "== Status ==\n",
      "Current time: 2024-11-21 18:49:51 (running for 00:00:45.95)\n",
      "Using FIFO scheduling algorithm.\n",
      "Logical resource usage: 7.0/10 CPUs, 0/0 GPUs\n",
      "Result logdir: /tmp/ray/session_2024-11-21_17-12-48_899457_5746/artifacts/2024-11-21_18-49-05/gpt/driver_artifacts\n",
      "Number of trials: 1/1 (1 RUNNING)\n",
      "\n",
      "\n",
      "== Status ==\n",
      "Current time: 2024-11-21 18:49:56 (running for 00:00:51.05)\n",
      "Using FIFO scheduling algorithm.\n",
      "Logical resource usage: 7.0/10 CPUs, 0/0 GPUs\n",
      "Result logdir: /tmp/ray/session_2024-11-21_17-12-48_899457_5746/artifacts/2024-11-21_18-49-05/gpt/driver_artifacts\n",
      "Number of trials: 1/1 (1 RUNNING)\n",
      "\n",
      "\n",
      "== Status ==\n",
      "Current time: 2024-11-21 18:50:01 (running for 00:00:56.09)\n",
      "Using FIFO scheduling algorithm.\n",
      "Logical resource usage: 7.0/10 CPUs, 0/0 GPUs\n",
      "Result logdir: /tmp/ray/session_2024-11-21_17-12-48_899457_5746/artifacts/2024-11-21_18-49-05/gpt/driver_artifacts\n",
      "Number of trials: 1/1 (1 RUNNING)\n",
      "\n",
      "\n",
      "== Status ==\n",
      "Current time: 2024-11-21 18:50:06 (running for 00:01:01.18)\n",
      "Using FIFO scheduling algorithm.\n",
      "Logical resource usage: 7.0/10 CPUs, 0/0 GPUs\n",
      "Result logdir: /tmp/ray/session_2024-11-21_17-12-48_899457_5746/artifacts/2024-11-21_18-49-05/gpt/driver_artifacts\n",
      "Number of trials: 1/1 (1 RUNNING)\n",
      "\n",
      "\n",
      "== Status ==\n",
      "Current time: 2024-11-21 18:50:11 (running for 00:01:06.25)\n",
      "Using FIFO scheduling algorithm.\n",
      "Logical resource usage: 7.0/10 CPUs, 0/0 GPUs\n",
      "Result logdir: /tmp/ray/session_2024-11-21_17-12-48_899457_5746/artifacts/2024-11-21_18-49-05/gpt/driver_artifacts\n",
      "Number of trials: 1/1 (1 RUNNING)\n",
      "\n",
      "\n",
      "== Status ==\n",
      "Current time: 2024-11-21 18:50:16 (running for 00:01:11.34)\n",
      "Using FIFO scheduling algorithm.\n",
      "Logical resource usage: 7.0/10 CPUs, 0/0 GPUs\n",
      "Result logdir: /tmp/ray/session_2024-11-21_17-12-48_899457_5746/artifacts/2024-11-21_18-49-05/gpt/driver_artifacts\n",
      "Number of trials: 1/1 (1 RUNNING)\n",
      "\n",
      "\n",
      "== Status ==\n",
      "Current time: 2024-11-21 18:50:22 (running for 00:01:16.43)\n",
      "Using FIFO scheduling algorithm.\n",
      "Logical resource usage: 7.0/10 CPUs, 0/0 GPUs\n",
      "Result logdir: /tmp/ray/session_2024-11-21_17-12-48_899457_5746/artifacts/2024-11-21_18-49-05/gpt/driver_artifacts\n",
      "Number of trials: 1/1 (1 RUNNING)\n",
      "\n",
      "\n",
      "== Status ==\n",
      "Current time: 2024-11-21 18:50:27 (running for 00:01:21.52)\n",
      "Using FIFO scheduling algorithm.\n",
      "Logical resource usage: 7.0/10 CPUs, 0/0 GPUs\n",
      "Result logdir: /tmp/ray/session_2024-11-21_17-12-48_899457_5746/artifacts/2024-11-21_18-49-05/gpt/driver_artifacts\n",
      "Number of trials: 1/1 (1 RUNNING)\n",
      "\n",
      "\n",
      "== Status ==\n",
      "Current time: 2024-11-21 18:50:32 (running for 00:01:26.61)\n",
      "Using FIFO scheduling algorithm.\n",
      "Logical resource usage: 7.0/10 CPUs, 0/0 GPUs\n",
      "Result logdir: /tmp/ray/session_2024-11-21_17-12-48_899457_5746/artifacts/2024-11-21_18-49-05/gpt/driver_artifacts\n",
      "Number of trials: 1/1 (1 RUNNING)\n",
      "\n",
      "\n",
      "== Status ==\n",
      "Current time: 2024-11-21 18:50:37 (running for 00:01:31.71)\n",
      "Using FIFO scheduling algorithm.\n",
      "Logical resource usage: 7.0/10 CPUs, 0/0 GPUs\n",
      "Result logdir: /tmp/ray/session_2024-11-21_17-12-48_899457_5746/artifacts/2024-11-21_18-49-05/gpt/driver_artifacts\n",
      "Number of trials: 1/1 (1 RUNNING)\n",
      "\n",
      "\n",
      "== Status ==\n",
      "Current time: 2024-11-21 18:50:42 (running for 00:01:36.80)\n",
      "Using FIFO scheduling algorithm.\n",
      "Logical resource usage: 7.0/10 CPUs, 0/0 GPUs\n",
      "Result logdir: /tmp/ray/session_2024-11-21_17-12-48_899457_5746/artifacts/2024-11-21_18-49-05/gpt/driver_artifacts\n",
      "Number of trials: 1/1 (1 RUNNING)\n",
      "\n",
      "\n"
     ]
    },
    {
     "name": "stderr",
     "output_type": "stream",
     "text": [
      "2024-11-21 18:50:44,960\tWARNING experiment_state.py:206 -- Experiment state snapshotting has been triggered multiple times in the last 5.0 seconds and may become a bottleneck. A snapshot is forced if `CheckpointConfig(num_to_keep)` is set, and a trial has checkpointed >= `num_to_keep` times since the last snapshot.\n",
      "You may want to consider increasing the `CheckpointConfig(num_to_keep)` or decreasing the frequency of saving checkpoints.\n",
      "You can suppress this warning by setting the environment variable TUNE_WARN_EXCESSIVE_EXPERIMENT_CHECKPOINT_SYNC_THRESHOLD_S to a smaller value than the current threshold (5.0). Set it to 0 to completely suppress this warning.\n"
     ]
    },
    {
     "name": "stdout",
     "output_type": "stream",
     "text": [
      "== Status ==\n",
      "Current time: 2024-11-21 18:50:47 (running for 00:01:41.85)\n",
      "Using FIFO scheduling algorithm.\n",
      "Logical resource usage: 7.0/10 CPUs, 0/0 GPUs\n",
      "Result logdir: /tmp/ray/session_2024-11-21_17-12-48_899457_5746/artifacts/2024-11-21_18-49-05/gpt/driver_artifacts\n",
      "Number of trials: 1/1 (1 RUNNING)\n",
      "\n",
      "\n",
      "== Status ==\n",
      "Current time: 2024-11-21 18:50:52 (running for 00:01:46.93)\n",
      "Using FIFO scheduling algorithm.\n",
      "Logical resource usage: 7.0/10 CPUs, 0/0 GPUs\n",
      "Result logdir: /tmp/ray/session_2024-11-21_17-12-48_899457_5746/artifacts/2024-11-21_18-49-05/gpt/driver_artifacts\n",
      "Number of trials: 1/1 (1 RUNNING)\n",
      "\n",
      "\n",
      "== Status ==\n",
      "Current time: 2024-11-21 18:50:57 (running for 00:01:52.02)\n",
      "Using FIFO scheduling algorithm.\n",
      "Logical resource usage: 7.0/10 CPUs, 0/0 GPUs\n",
      "Result logdir: /tmp/ray/session_2024-11-21_17-12-48_899457_5746/artifacts/2024-11-21_18-49-05/gpt/driver_artifacts\n",
      "Number of trials: 1/1 (1 RUNNING)\n",
      "\n",
      "\n",
      "== Status ==\n",
      "Current time: 2024-11-21 18:51:02 (running for 00:01:57.02)\n",
      "Using FIFO scheduling algorithm.\n",
      "Logical resource usage: 7.0/10 CPUs, 0/0 GPUs\n",
      "Result logdir: /tmp/ray/session_2024-11-21_17-12-48_899457_5746/artifacts/2024-11-21_18-49-05/gpt/driver_artifacts\n",
      "Number of trials: 1/1 (1 RUNNING)\n",
      "\n",
      "\n",
      "== Status ==\n",
      "Current time: 2024-11-21 18:51:07 (running for 00:02:02.11)\n",
      "Using FIFO scheduling algorithm.\n",
      "Logical resource usage: 7.0/10 CPUs, 0/0 GPUs\n",
      "Result logdir: /tmp/ray/session_2024-11-21_17-12-48_899457_5746/artifacts/2024-11-21_18-49-05/gpt/driver_artifacts\n",
      "Number of trials: 1/1 (1 RUNNING)\n",
      "\n",
      "\n",
      "== Status ==\n",
      "Current time: 2024-11-21 18:51:12 (running for 00:02:07.20)\n",
      "Using FIFO scheduling algorithm.\n",
      "Logical resource usage: 7.0/10 CPUs, 0/0 GPUs\n",
      "Result logdir: /tmp/ray/session_2024-11-21_17-12-48_899457_5746/artifacts/2024-11-21_18-49-05/gpt/driver_artifacts\n",
      "Number of trials: 1/1 (1 RUNNING)\n",
      "\n",
      "\n",
      "== Status ==\n",
      "Current time: 2024-11-21 18:51:17 (running for 00:02:12.27)\n",
      "Using FIFO scheduling algorithm.\n",
      "Logical resource usage: 7.0/10 CPUs, 0/0 GPUs\n",
      "Result logdir: /tmp/ray/session_2024-11-21_17-12-48_899457_5746/artifacts/2024-11-21_18-49-05/gpt/driver_artifacts\n",
      "Number of trials: 1/1 (1 RUNNING)\n",
      "\n",
      "\n",
      "== Status ==\n",
      "Current time: 2024-11-21 18:51:22 (running for 00:02:17.36)\n",
      "Using FIFO scheduling algorithm.\n",
      "Logical resource usage: 7.0/10 CPUs, 0/0 GPUs\n",
      "Result logdir: /tmp/ray/session_2024-11-21_17-12-48_899457_5746/artifacts/2024-11-21_18-49-05/gpt/driver_artifacts\n",
      "Number of trials: 1/1 (1 RUNNING)\n",
      "\n",
      "\n",
      "== Status ==\n",
      "Current time: 2024-11-21 18:51:28 (running for 00:02:22.41)\n",
      "Using FIFO scheduling algorithm.\n",
      "Logical resource usage: 7.0/10 CPUs, 0/0 GPUs\n",
      "Result logdir: /tmp/ray/session_2024-11-21_17-12-48_899457_5746/artifacts/2024-11-21_18-49-05/gpt/driver_artifacts\n",
      "Number of trials: 1/1 (1 RUNNING)\n",
      "\n",
      "\n"
     ]
    },
    {
     "name": "stderr",
     "output_type": "stream",
     "text": [
      "2024-11-21 18:51:28,575\tWARNING experiment_state.py:206 -- Experiment state snapshotting has been triggered multiple times in the last 5.0 seconds and may become a bottleneck. A snapshot is forced if `CheckpointConfig(num_to_keep)` is set, and a trial has checkpointed >= `num_to_keep` times since the last snapshot.\n",
      "You may want to consider increasing the `CheckpointConfig(num_to_keep)` or decreasing the frequency of saving checkpoints.\n",
      "You can suppress this warning by setting the environment variable TUNE_WARN_EXCESSIVE_EXPERIMENT_CHECKPOINT_SYNC_THRESHOLD_S to a smaller value than the current threshold (5.0). Set it to 0 to completely suppress this warning.\n",
      "2024-11-21 18:51:29,647\tINFO tune.py:1009 -- Wrote the latest version of all result files and experiment state to '/Users/majid/Projects/nlp/GPT/ray_results/gpt' in 0.0038s.\n",
      "2024-11-21 18:51:29,651\tINFO tune.py:1041 -- Total run time: 144.05 seconds (144.04 seconds for the tuning loop).\n"
     ]
    },
    {
     "name": "stdout",
     "output_type": "stream",
     "text": [
      "== Status ==\n",
      "Current time: 2024-11-21 18:51:29 (running for 00:02:24.05)\n",
      "Using FIFO scheduling algorithm.\n",
      "Logical resource usage: 7.0/10 CPUs, 0/0 GPUs\n",
      "Result logdir: /tmp/ray/session_2024-11-21_17-12-48_899457_5746/artifacts/2024-11-21_18-49-05/gpt/driver_artifacts\n",
      "Number of trials: 1/1 (1 TERMINATED)\n",
      "\n",
      "\n"
     ]
    }
   ],
   "source": [
    "results = trainer.fit()"
   ]
  },
  {
   "cell_type": "code",
   "execution_count": 148,
   "id": "274cf947-b8d2-4a19-baf5-df5ae75df508",
   "metadata": {
    "scrolled": true
   },
   "outputs": [
    {
     "data": {
      "text/plain": [
       "[(Checkpoint(filesystem=local, path=/Users/majid/Projects/nlp/GPT/ray_results/gpt/TorchTrainer_31698_00000_0_2024-11-21_18-49-05/checkpoint_000002),\n",
       "  {'epoch': 2,\n",
       "   'train_loss': 2.2041960158348086,\n",
       "   'val_loss': 2.1340403580665583,\n",
       "   'timestamp': 1732233088,\n",
       "   'checkpoint_dir_name': 'checkpoint_000002',\n",
       "   'should_checkpoint': True,\n",
       "   'done': False,\n",
       "   'training_iteration': 3,\n",
       "   'trial_id': '31698_00000',\n",
       "   'date': '2024-11-21_18-51-28',\n",
       "   'time_this_iter_s': 43.60825204849243,\n",
       "   'time_total_s': 140.24046921730042,\n",
       "   'pid': 87751,\n",
       "   'hostname': 'Majids-MacBook-Pro.local',\n",
       "   'node_ip': '127.0.0.1',\n",
       "   'config': {'train_loop_config': {'dropout_p': 0.2,\n",
       "     'lr': 0.0003,\n",
       "     'num_epochs': 3,\n",
       "     'batch_size': 64,\n",
       "     'n_train_steps': 2000,\n",
       "     'n_eval_steps': 100,\n",
       "     'n_heads': 4,\n",
       "     'n_blocks': 3}},\n",
       "   'time_since_restore': 140.24046921730042,\n",
       "   'iterations_since_restore': 3})]"
      ]
     },
     "execution_count": 148,
     "metadata": {},
     "output_type": "execute_result"
    }
   ],
   "source": [
    "results.best_checkpoints"
   ]
  },
  {
   "cell_type": "markdown",
   "id": "5b03c235-9e0a-4032-8dcb-11cd770ad939",
   "metadata": {},
   "source": [
    "## test generation"
   ]
  },
  {
   "cell_type": "code",
   "execution_count": 159,
   "id": "2068c743-5133-4d8e-8d0b-a8914aa15ed0",
   "metadata": {},
   "outputs": [
    {
     "data": {
      "text/plain": [
       "Checkpoint(filesystem=local, path=/Users/majid/Projects/nlp/GPT/ray_results/gpt/TorchTrainer_31698_00000_0_2024-11-21_18-49-05/checkpoint_000002)"
      ]
     },
     "execution_count": 159,
     "metadata": {},
     "output_type": "execute_result"
    }
   ],
   "source": [
    "checkpoint = results.checkpoint\n",
    "checkpoint"
   ]
  },
  {
   "cell_type": "code",
   "execution_count": 168,
   "id": "a736bfc0-97d2-4f0e-9de8-9c3422185171",
   "metadata": {},
   "outputs": [
    {
     "data": {
      "text/plain": [
       "True"
      ]
     },
     "execution_count": 168,
     "metadata": {},
     "output_type": "execute_result"
    }
   ],
   "source": [
    "os.path.isfile(checkpoint.path+\"/model.pt\")"
   ]
  },
  {
   "cell_type": "code",
   "execution_count": 61,
   "id": "bd000a3f-89bd-4da4-882b-9cabef1f6814",
   "metadata": {},
   "outputs": [],
   "source": [
    "def load_model_from_checkpoint(checkpoint):\n",
    "    model = GPT(train_config['n_heads'], train_config['n_blocks'], 65, n_embed=32)\n",
    "    model_state = torch.load(checkpoint.path+\"/model.pt\", map_location='cpu', weights_only=True)\n",
    "    model.load_state_dict(model_state['model_state_dict'])\n",
    "    return model"
   ]
  },
  {
   "cell_type": "code",
   "execution_count": 193,
   "id": "23b4c032-5863-469d-bab7-0b0b36463b5d",
   "metadata": {},
   "outputs": [
    {
     "name": "stdout",
     "output_type": "stream",
     "text": [
      "\n",
      "For intence that uns to grep'ss olonss dexno wane gray;\n",
      "And arrive blese! I',\n",
      "and I frock to wenle ve will hand. Thy lode kightors of in hia Sarce or cow pown the fleat heor proight Ceath,\n",
      "O, I vorcon tling thim, pour.\n",
      "\n",
      "FO:\n",
      "Halat's that not gais ary?\n",
      "Ho bort, ruan\n",
      "Your decouk, wor ou for not day.\n",
      "\n",
      "H\n"
     ]
    }
   ],
   "source": [
    "generation = model.generate(torch.zeros((1, 1), dtype=torch.long), max_size=300)\n",
    "print(decode(generation[0].tolist()))"
   ]
  },
  {
   "cell_type": "markdown",
   "id": "b8b8f173-ee12-465e-bdb1-f8cf4c82bb9b",
   "metadata": {
    "jp-MarkdownHeadingCollapsed": true
   },
   "source": [
    "## Experiment tracking with MLflow"
   ]
  },
  {
   "cell_type": "code",
   "execution_count": 19,
   "id": "e129255b-de57-42fb-be3b-44d1d4f00c4b",
   "metadata": {},
   "outputs": [],
   "source": [
    "import mlflow\n",
    "from pathlib import Path\n",
    "from ray.air.integrations.mlflow import MLflowLoggerCallback\n",
    "import time"
   ]
  },
  {
   "cell_type": "code",
   "execution_count": 43,
   "id": "fba31b82-65c8-4085-86b1-c9b2440af64d",
   "metadata": {},
   "outputs": [
    {
     "name": "stdout",
     "output_type": "stream",
     "text": [
      "file:///Users/majid/Projects/nlp/GPT/tmp/mlflow\n"
     ]
    }
   ],
   "source": [
    "MODEL_REGISTRY = Path(\"./tmp/mlflow\")\n",
    "Path(MODEL_REGISTRY).mkdir(parents=True, exist_ok=True)\n",
    "MLFLOW_TRACKING_URI = \"file://\" + str(MODEL_REGISTRY.absolute())\n",
    "mlflow.set_tracking_uri(MLFLOW_TRACKING_URI)\n",
    "print (mlflow.get_tracking_uri())"
   ]
  },
  {
   "cell_type": "code",
   "execution_count": 197,
   "id": "30641ca1-f4fd-4521-b351-59652ba3a26c",
   "metadata": {},
   "outputs": [],
   "source": [
    "experiment_name = f\"gpt-{int(time.time())}\"\n",
    "mlflow_callback = MLflowLoggerCallback(\n",
    "    tracking_uri=MLFLOW_TRACKING_URI,\n",
    "    experiment_name=experiment_name,\n",
    "    save_artifact=True)"
   ]
  },
  {
   "cell_type": "code",
   "execution_count": 84,
   "id": "06cd10ba-ce46-4a0d-8269-d2c43aef6fb0",
   "metadata": {},
   "outputs": [],
   "source": [
    "# Run configuration with MLflow callback\n",
    "run_config = RunConfig(\n",
    "    callbacks=[mlflow_callback],\n",
    "    checkpoint_config=checkpoint_config,\n",
    "    storage_path=os.path.abspath(\"./ray_results/mlflow\")\n",
    ")"
   ]
  },
  {
   "cell_type": "code",
   "execution_count": 85,
   "id": "7c05772e-ca8f-45ed-905f-ad47a250a2aa",
   "metadata": {
    "collapsed": true,
    "jupyter": {
     "outputs_hidden": true
    }
   },
   "outputs": [
    {
     "name": "stderr",
     "output_type": "stream",
     "text": [
      "2024-11-28 15:39:36,946\tINFO tune.py:616 -- [output] This uses the legacy output and progress reporter, as Jupyter notebooks are not supported by the new engine, yet. For more information, please see https://github.com/ray-project/ray/issues/36949\n"
     ]
    },
    {
     "name": "stdout",
     "output_type": "stream",
     "text": [
      "== Status ==\n",
      "Current time: 2024-11-28 15:39:37 (running for 00:00:00.11)\n",
      "Using FIFO scheduling algorithm.\n",
      "Logical resource usage: 7.0/10 CPUs, 0/0 GPUs\n",
      "Result logdir: /tmp/ray/session_2024-11-28_15-20-40_241182_16713/artifacts/2024-11-28_15-39-36/TorchTrainer_2024-11-28_15-39-36/driver_artifacts\n",
      "Number of trials: 1/1 (1 PENDING)\n",
      "\n",
      "\n"
     ]
    },
    {
     "name": "stderr",
     "output_type": "stream",
     "text": [
      "2024-11-28 15:39:39,651\tWARNING tune.py:219 -- Stop signal received (e.g. via SIGINT/Ctrl+C), ending Ray Tune run. This will try to checkpoint the experiment state one last time. Press CTRL+C (or send SIGINT/SIGKILL/SIGTERM) to skip. \n",
      "2024-11-28 15:39:39,653\tINFO tune.py:1009 -- Wrote the latest version of all result files and experiment state to '/Users/majid/Projects/nlp/GPT/ray_results/mlflow/TorchTrainer_2024-11-28_15-39-36' in 0.0017s.\n",
      "2024-11-28 15:39:39,776\tINFO tune.py:1041 -- Total run time: 2.83 seconds (2.70 seconds for the tuning loop).\n",
      "2024-11-28 15:39:39,776\tWARNING tune.py:1051 -- Training has been interrupted, but the most recent state was saved.\n",
      "Resume training with: <FrameworkTrainer>.restore(path=\"/Users/majid/Projects/nlp/GPT/ray_results/mlflow/TorchTrainer_2024-11-28_15-39-36\", ...)\n",
      "2024-11-28 15:39:39,778\tWARNING experiment_analysis.py:180 -- Failed to fetch metrics for 1 trial(s):\n",
      "- TorchTrainer_e20f6_00000: FileNotFoundError('Could not fetch metrics for TorchTrainer_e20f6_00000: both result.json and progress.csv were not found at /Users/majid/Projects/nlp/GPT/ray_results/mlflow/TorchTrainer_2024-11-28_15-39-36/TorchTrainer_e20f6_00000_0_2024-11-28_15-39-36')\n"
     ]
    },
    {
     "name": "stdout",
     "output_type": "stream",
     "text": [
      "== Status ==\n",
      "Current time: 2024-11-28 15:39:39 (running for 00:00:02.70)\n",
      "Using FIFO scheduling algorithm.\n",
      "Logical resource usage: 7.0/10 CPUs, 0/0 GPUs\n",
      "Result logdir: /tmp/ray/session_2024-11-28_15-20-40_241182_16713/artifacts/2024-11-28_15-39-36/TorchTrainer_2024-11-28_15-39-36/driver_artifacts\n",
      "Number of trials: 1/1 (1 PENDING)\n",
      "\n",
      "\n"
     ]
    }
   ],
   "source": [
    "# Trainer\n",
    "trainer = TorchTrainer(\n",
    "    train_loop_per_worker=train_loop_per_worker,\n",
    "    train_loop_config=train_config,\n",
    "    scaling_config=scaling_config,\n",
    "    run_config=run_config,  # uses RunConfig with MLflow callback\n",
    ")\n",
    "\n",
    "# Train\n",
    "results = trainer.fit()"
   ]
  },
  {
   "cell_type": "code",
   "execution_count": 203,
   "id": "43b49716-dc4f-49d2-a78a-516abec05d7c",
   "metadata": {},
   "outputs": [
    {
     "data": {
      "text/plain": [
       "Result(\n",
       "  metrics={'epoch': 2, 'train_loss': 2.2041960158348086, 'val_loss': 2.1340403580665583},\n",
       "  path='/Users/majid/Projects/nlp/GPT/ray_results/mlflow/TorchTrainer_2024-11-23_12-24-55/TorchTrainer_db59a_00000_0_2024-11-23_12-24-55',\n",
       "  filesystem='local',\n",
       "  checkpoint=Checkpoint(filesystem=local, path=/Users/majid/Projects/nlp/GPT/ray_results/mlflow/TorchTrainer_2024-11-23_12-24-55/TorchTrainer_db59a_00000_0_2024-11-23_12-24-55/checkpoint_000002)\n",
       ")"
      ]
     },
     "execution_count": 203,
     "metadata": {},
     "output_type": "execute_result"
    }
   ],
   "source": [
    "results"
   ]
  },
  {
   "cell_type": "code",
   "execution_count": 204,
   "id": "049c87b3-0c28-4686-b24f-4d6a7a4ec2e7",
   "metadata": {},
   "outputs": [
    {
     "data": {
      "text/html": [
       "<div>\n",
       "<style scoped>\n",
       "    .dataframe tbody tr th:only-of-type {\n",
       "        vertical-align: middle;\n",
       "    }\n",
       "\n",
       "    .dataframe tbody tr th {\n",
       "        vertical-align: top;\n",
       "    }\n",
       "\n",
       "    .dataframe thead th {\n",
       "        text-align: right;\n",
       "    }\n",
       "</style>\n",
       "<table border=\"1\" class=\"dataframe\">\n",
       "  <thead>\n",
       "    <tr style=\"text-align: right;\">\n",
       "      <th></th>\n",
       "      <th>run_id</th>\n",
       "      <th>experiment_id</th>\n",
       "      <th>status</th>\n",
       "      <th>artifact_uri</th>\n",
       "      <th>start_time</th>\n",
       "      <th>end_time</th>\n",
       "      <th>metrics.config/train_loop_config/lr</th>\n",
       "      <th>metrics.epoch</th>\n",
       "      <th>metrics.train_loss</th>\n",
       "      <th>metrics.iterations_since_restore</th>\n",
       "      <th>...</th>\n",
       "      <th>params.train_loop_config/num_epochs</th>\n",
       "      <th>params.train_loop_config/n_blocks</th>\n",
       "      <th>params.train_loop_config/n_heads</th>\n",
       "      <th>params.train_loop_config/n_eval_steps</th>\n",
       "      <th>params.train_loop_config/batch_size</th>\n",
       "      <th>params.train_loop_config/n_train_steps</th>\n",
       "      <th>tags..ipynb_checkpoints/trial_name-checkpoint</th>\n",
       "      <th>tags.trial_name</th>\n",
       "      <th>tags..ipynb_checkpoints/mlflow-checkpoint.runName</th>\n",
       "      <th>tags.mlflow.runName</th>\n",
       "    </tr>\n",
       "  </thead>\n",
       "  <tbody>\n",
       "    <tr>\n",
       "      <th>0</th>\n",
       "      <td>607c8c79136444ce84d603c0b0ae77c7</td>\n",
       "      <td>742657146908851070</td>\n",
       "      <td>FINISHED</td>\n",
       "      <td>file:///Users/majid/Projects/nlp/GPT/tmp/mlflo...</td>\n",
       "      <td>2024-11-23 17:24:58.443000+00:00</td>\n",
       "      <td>2024-11-23 17:27:17.026000+00:00</td>\n",
       "      <td>0.0003</td>\n",
       "      <td>2.0</td>\n",
       "      <td>2.204196</td>\n",
       "      <td>3.0</td>\n",
       "      <td>...</td>\n",
       "      <td>3</td>\n",
       "      <td>3</td>\n",
       "      <td>4</td>\n",
       "      <td>100</td>\n",
       "      <td>64</td>\n",
       "      <td>2000</td>\n",
       "      <td>TorchTrainer_db59a_00000</td>\n",
       "      <td>TorchTrainer_db59a_00000</td>\n",
       "      <td>TorchTrainer_db59a_00000</td>\n",
       "      <td>TorchTrainer_db59a_00000</td>\n",
       "    </tr>\n",
       "    <tr>\n",
       "      <th>1</th>\n",
       "      <td>bf15a2979fbc4bf3886801903106d71c</td>\n",
       "      <td>742657146908851070</td>\n",
       "      <td>FINISHED</td>\n",
       "      <td>file:///Users/majid/Projects/nlp/GPT/tmp/mlflo...</td>\n",
       "      <td>2024-11-23 17:07:08.769000+00:00</td>\n",
       "      <td>2024-11-23 17:09:27.885000+00:00</td>\n",
       "      <td>0.0003</td>\n",
       "      <td>2.0</td>\n",
       "      <td>2.204196</td>\n",
       "      <td>3.0</td>\n",
       "      <td>...</td>\n",
       "      <td>3</td>\n",
       "      <td>3</td>\n",
       "      <td>4</td>\n",
       "      <td>100</td>\n",
       "      <td>64</td>\n",
       "      <td>2000</td>\n",
       "      <td>TorchTrainer_5db4b_00000</td>\n",
       "      <td>TorchTrainer_5db4b_00000</td>\n",
       "      <td>TorchTrainer_5db4b_00000</td>\n",
       "      <td>TorchTrainer_5db4b_00000</td>\n",
       "    </tr>\n",
       "  </tbody>\n",
       "</table>\n",
       "<p>2 rows × 49 columns</p>\n",
       "</div>"
      ],
      "text/plain": [
       "                             run_id       experiment_id    status  \\\n",
       "0  607c8c79136444ce84d603c0b0ae77c7  742657146908851070  FINISHED   \n",
       "1  bf15a2979fbc4bf3886801903106d71c  742657146908851070  FINISHED   \n",
       "\n",
       "                                        artifact_uri  \\\n",
       "0  file:///Users/majid/Projects/nlp/GPT/tmp/mlflo...   \n",
       "1  file:///Users/majid/Projects/nlp/GPT/tmp/mlflo...   \n",
       "\n",
       "                        start_time                         end_time  \\\n",
       "0 2024-11-23 17:24:58.443000+00:00 2024-11-23 17:27:17.026000+00:00   \n",
       "1 2024-11-23 17:07:08.769000+00:00 2024-11-23 17:09:27.885000+00:00   \n",
       "\n",
       "   metrics.config/train_loop_config/lr  metrics.epoch  metrics.train_loss  \\\n",
       "0                               0.0003            2.0            2.204196   \n",
       "1                               0.0003            2.0            2.204196   \n",
       "\n",
       "   metrics.iterations_since_restore  ...  params.train_loop_config/num_epochs  \\\n",
       "0                               3.0  ...                                    3   \n",
       "1                               3.0  ...                                    3   \n",
       "\n",
       "   params.train_loop_config/n_blocks  params.train_loop_config/n_heads  \\\n",
       "0                                  3                                 4   \n",
       "1                                  3                                 4   \n",
       "\n",
       "   params.train_loop_config/n_eval_steps  params.train_loop_config/batch_size  \\\n",
       "0                                    100                                   64   \n",
       "1                                    100                                   64   \n",
       "\n",
       "   params.train_loop_config/n_train_steps  \\\n",
       "0                                    2000   \n",
       "1                                    2000   \n",
       "\n",
       "   tags..ipynb_checkpoints/trial_name-checkpoint           tags.trial_name  \\\n",
       "0                       TorchTrainer_db59a_00000  TorchTrainer_db59a_00000   \n",
       "1                       TorchTrainer_5db4b_00000  TorchTrainer_5db4b_00000   \n",
       "\n",
       "   tags..ipynb_checkpoints/mlflow-checkpoint.runName       tags.mlflow.runName  \n",
       "0                           TorchTrainer_db59a_00000  TorchTrainer_db59a_00000  \n",
       "1                           TorchTrainer_5db4b_00000  TorchTrainer_5db4b_00000  \n",
       "\n",
       "[2 rows x 49 columns]"
      ]
     },
     "execution_count": 204,
     "metadata": {},
     "output_type": "execute_result"
    }
   ],
   "source": [
    "sorted_runs = mlflow.search_runs(experiment_names=[experiment_name], order_by=[\"metrics.val_loss ASC\"])\n",
    "sorted_runs"
   ]
  },
  {
   "cell_type": "code",
   "execution_count": 229,
   "id": "8ee1a092-574f-4b7e-9834-8697841993bd",
   "metadata": {},
   "outputs": [
    {
     "data": {
      "text/plain": [
       "'/Users/majid/Projects/nlp/GPT/tmp/mlflow/742657146908851070/607c8c79136444ce84d603c0b0ae77c7/artifacts'"
      ]
     },
     "execution_count": 229,
     "metadata": {},
     "output_type": "execute_result"
    }
   ],
   "source": [
    "from urllib.parse import urlparse\n",
    "mlflow_run = mlflow.get_run('607c8c79136444ce84d603c0b0ae77c7')\n",
    "artifact_dir = urlparse(mlflow_run.info.artifact_uri).path\n",
    "artifact_dir"
   ]
  },
  {
   "cell_type": "code",
   "execution_count": 234,
   "id": "dffbd4a2-23d4-40d5-8dd4-89f07f850371",
   "metadata": {},
   "outputs": [
    {
     "data": {
      "text/plain": [
       "<RunInfo: artifact_uri='file:///Users/majid/Projects/nlp/GPT/tmp/mlflow/742657146908851070/607c8c79136444ce84d603c0b0ae77c7/artifacts', end_time=1732382837026, experiment_id='742657146908851070', lifecycle_stage='active', run_id='607c8c79136444ce84d603c0b0ae77c7', run_name='TorchTrainer_db59a_00000', run_uuid='607c8c79136444ce84d603c0b0ae77c7', start_time=1732382698443, status='FINISHED', user_id='unknown'>"
      ]
     },
     "execution_count": 234,
     "metadata": {},
     "output_type": "execute_result"
    }
   ],
   "source": [
    "mlflow_run.info"
   ]
  },
  {
   "cell_type": "code",
   "execution_count": 227,
   "id": "c4c3e3af-3b38-4ac0-b10d-5b9859c54dc3",
   "metadata": {},
   "outputs": [
    {
     "data": {
      "text/plain": [
       "Result(\n",
       "  metrics={'epoch': 2, 'train_loss': 2.2041960158348086, 'val_loss': 2.1340403580665583},\n",
       "  path='/Users/majid/Projects/nlp/GPT/tmp/mlflow/742657146908851070/607c8c79136444ce84d603c0b0ae77c7/artifacts',\n",
       "  filesystem='local',\n",
       "  checkpoint=None\n",
       ")"
      ]
     },
     "execution_count": 227,
     "metadata": {},
     "output_type": "execute_result"
    }
   ],
   "source": [
    "from ray.train import Result\n",
    "results = Result.from_path(artifact_dir)\n",
    "results"
   ]
  },
  {
   "cell_type": "code",
   "execution_count": 228,
   "id": "9cd9c5af-0b8f-4aa3-9616-593fe882b097",
   "metadata": {},
   "outputs": [],
   "source": [
    "results.checkpoint"
   ]
  },
  {
   "cell_type": "markdown",
   "id": "f37b21f4-1f47-4f2b-8535-09ccc08aab56",
   "metadata": {},
   "source": [
    "## Hyperparameter tuning"
   ]
  },
  {
   "cell_type": "code",
   "execution_count": 53,
   "id": "f8afb112-9b88-4745-b3c1-0ea0e76d61f7",
   "metadata": {},
   "outputs": [],
   "source": [
    "from ray import tune\n",
    "from ray.tune import Tuner\n",
    "from ray.tune.schedulers import AsyncHyperBandScheduler\n",
    "from ray.tune.search import ConcurrencyLimiter\n",
    "from ray.tune.search.hyperopt import HyperOptSearch"
   ]
  },
  {
   "cell_type": "code",
   "execution_count": 54,
   "id": "52408c5c-7060-46b8-bd62-d705328aa8cf",
   "metadata": {},
   "outputs": [],
   "source": [
    "trainer = TorchTrainer(\n",
    "    train_loop_per_worker=train_loop_per_worker,\n",
    "    train_loop_config=train_config,\n",
    "    scaling_config=scaling_config,\n",
    ")"
   ]
  },
  {
   "cell_type": "code",
   "execution_count": 55,
   "id": "69cbe4bc-872d-4a4a-ba63-f6c934a41023",
   "metadata": {},
   "outputs": [],
   "source": [
    "mlflow_callback = MLflowLoggerCallback(\n",
    "    tracking_uri=MLFLOW_TRACKING_URI,\n",
    "    experiment_name='tuning_trial_2',\n",
    "    save_artifact=True)"
   ]
  },
  {
   "cell_type": "code",
   "execution_count": 56,
   "id": "3f5ced1b-dbed-4dfc-ac58-abe59eb6c4fb",
   "metadata": {},
   "outputs": [],
   "source": [
    "checkpoint_config = CheckpointConfig(num_to_keep=1, checkpoint_score_attribute=\"val_loss\", checkpoint_score_order=\"min\")\n",
    "run_config = RunConfig(\n",
    "    callbacks=[mlflow_callback],\n",
    "    checkpoint_config=checkpoint_config,\n",
    "    storage_path=os.path.abspath(\"./ray_results/mlflow\")\n",
    ")"
   ]
  },
  {
   "cell_type": "code",
   "execution_count": 57,
   "id": "faaa0427-001f-43fb-a69c-17022dce17ee",
   "metadata": {},
   "outputs": [],
   "source": [
    "initial_params = [{'train_loop_config': {\"dropout_p\": 0.2, \"lr\": 3e-4, \"n_train_steps\": 2000}}]\n",
    "search_alg = HyperOptSearch(points_to_evaluate=initial_params)\n",
    "search_alg = ConcurrencyLimiter(search_alg, max_concurrent=2)"
   ]
  },
  {
   "cell_type": "code",
   "execution_count": 58,
   "id": "850384a3-1cf5-4d81-ba44-c8d63dc60332",
   "metadata": {},
   "outputs": [],
   "source": [
    "param_space = {\n",
    "    \"train_loop_config\": {\n",
    "        \"dropout_p\": tune.uniform(0.1, 0.8),\n",
    "        \"lr\": tune.loguniform(1e-5, 5e-4),\n",
    "        \"n_train_steps\": tune.randint(1000, 4000),\n",
    "    }\n",
    "}\n"
   ]
  },
  {
   "cell_type": "code",
   "execution_count": 59,
   "id": "b3c47f7f-48d9-49eb-8863-dbf4db08cab3",
   "metadata": {},
   "outputs": [],
   "source": [
    "scheduler = AsyncHyperBandScheduler(\n",
    "    max_t=train_config[\"num_epochs\"],\n",
    "    grace_period=1,\n",
    ")"
   ]
  },
  {
   "cell_type": "code",
   "execution_count": 60,
   "id": "7c53e05a-c54f-4284-99bc-fc65c96d26d1",
   "metadata": {},
   "outputs": [],
   "source": [
    "tune_config = tune.TuneConfig(\n",
    "    metric=\"val_loss\",\n",
    "    mode=\"min\",\n",
    "    search_alg=search_alg,\n",
    "    scheduler=scheduler,\n",
    "    num_samples=2,\n",
    ")"
   ]
  },
  {
   "cell_type": "code",
   "execution_count": 61,
   "id": "44639bf0-e160-4d9c-bef2-8afb6d212731",
   "metadata": {},
   "outputs": [],
   "source": [
    "tuner = Tuner(\n",
    "    trainable=trainer,\n",
    "    run_config=run_config,\n",
    "    param_space=param_space,\n",
    "    tune_config=tune_config,\n",
    ")"
   ]
  },
  {
   "cell_type": "code",
   "execution_count": 62,
   "id": "f8c7dd62-733e-428c-8e2c-141e6ca77fbb",
   "metadata": {
    "scrolled": true
   },
   "outputs": [
    {
     "data": {
      "text/html": [
       "<div class=\"tuneStatus\">\n",
       "  <div style=\"display: flex;flex-direction: row\">\n",
       "    <div style=\"display: flex;flex-direction: column;\">\n",
       "      <h3>Tune Status</h3>\n",
       "      <table>\n",
       "<tbody>\n",
       "<tr><td>Current time:</td><td>2024-11-30 15:08:46</td></tr>\n",
       "<tr><td>Running for: </td><td>00:04:43.44        </td></tr>\n",
       "<tr><td>Memory:      </td><td>11.0/16.0 GiB      </td></tr>\n",
       "</tbody>\n",
       "</table>\n",
       "    </div>\n",
       "    <div class=\"vDivider\"></div>\n",
       "    <div class=\"systemInfo\">\n",
       "      <h3>System Info</h3>\n",
       "      Using AsyncHyperBand: num_stopped=2<br>Bracket: Iter 1.000: -2.298362827897071<br>Logical resource usage: 7.0/10 CPUs, 0/0 GPUs\n",
       "    </div>\n",
       "    \n",
       "  </div>\n",
       "  <div class=\"hDivider\"></div>\n",
       "  <div class=\"trialStatus\">\n",
       "    <h3>Trial Status</h3>\n",
       "    <table>\n",
       "<thead>\n",
       "<tr><th>Trial name           </th><th>status    </th><th>loc            </th><th style=\"text-align: right;\">         train_loop_config/dr\n",
       "opout_p</th><th style=\"text-align: right;\">  train_loop_config/lr</th><th style=\"text-align: right;\">     train_loop_config/n_\n",
       "train_steps</th><th style=\"text-align: right;\">  iter</th><th style=\"text-align: right;\">  total time (s)</th><th style=\"text-align: right;\">  epoch</th><th style=\"text-align: right;\">  train_loss</th><th style=\"text-align: right;\">  val_loss</th></tr>\n",
       "</thead>\n",
       "<tbody>\n",
       "<tr><td>TorchTrainer_36803d15</td><td>TERMINATED</td><td>127.0.0.1:50448</td><td style=\"text-align: right;\">0.2     </td><td style=\"text-align: right;\">           0.0003     </td><td style=\"text-align: right;\">2000</td><td style=\"text-align: right;\">     3</td><td style=\"text-align: right;\">         138.368</td><td style=\"text-align: right;\">      2</td><td style=\"text-align: right;\">     2.2042 </td><td style=\"text-align: right;\">   2.13404</td></tr>\n",
       "<tr><td>TorchTrainer_4cdf0f86</td><td>TERMINATED</td><td>127.0.0.1:50522</td><td style=\"text-align: right;\">0.479284</td><td style=\"text-align: right;\">           0.000328612</td><td style=\"text-align: right;\">2043</td><td style=\"text-align: right;\">     3</td><td style=\"text-align: right;\">         139.511</td><td style=\"text-align: right;\">      2</td><td style=\"text-align: right;\">     2.18744</td><td style=\"text-align: right;\">   2.12547</td></tr>\n",
       "</tbody>\n",
       "</table>\n",
       "  </div>\n",
       "</div>\n",
       "<style>\n",
       ".tuneStatus {\n",
       "  color: var(--jp-ui-font-color1);\n",
       "}\n",
       ".tuneStatus .systemInfo {\n",
       "  display: flex;\n",
       "  flex-direction: column;\n",
       "}\n",
       ".tuneStatus td {\n",
       "  white-space: nowrap;\n",
       "}\n",
       ".tuneStatus .trialStatus {\n",
       "  display: flex;\n",
       "  flex-direction: column;\n",
       "}\n",
       ".tuneStatus h3 {\n",
       "  font-weight: bold;\n",
       "}\n",
       ".tuneStatus .hDivider {\n",
       "  border-bottom-width: var(--jp-border-width);\n",
       "  border-bottom-color: var(--jp-border-color0);\n",
       "  border-bottom-style: solid;\n",
       "}\n",
       ".tuneStatus .vDivider {\n",
       "  border-left-width: var(--jp-border-width);\n",
       "  border-left-color: var(--jp-border-color0);\n",
       "  border-left-style: solid;\n",
       "  margin: 0.5em 1em 0.5em 1em;\n",
       "}\n",
       "</style>\n"
      ],
      "text/plain": [
       "<IPython.core.display.HTML object>"
      ]
     },
     "metadata": {},
     "output_type": "display_data"
    },
    {
     "name": "stderr",
     "output_type": "stream",
     "text": [
      "2024-11-30 15:04:58,049\tWARNING experiment_state.py:206 -- Experiment state snapshotting has been triggered multiple times in the last 5.0 seconds and may become a bottleneck. A snapshot is forced if `CheckpointConfig(num_to_keep)` is set, and a trial has checkpointed >= `num_to_keep` times since the last snapshot.\n",
      "You may want to consider increasing the `CheckpointConfig(num_to_keep)` or decreasing the frequency of saving checkpoints.\n",
      "You can suppress this warning by setting the environment variable TUNE_WARN_EXCESSIVE_EXPERIMENT_CHECKPOINT_SYNC_THRESHOLD_S to a smaller value than the current threshold (5.0). Set it to 0 to completely suppress this warning.\n",
      "2024-11-30 15:05:41,326\tWARNING experiment_state.py:206 -- Experiment state snapshotting has been triggered multiple times in the last 5.0 seconds and may become a bottleneck. A snapshot is forced if `CheckpointConfig(num_to_keep)` is set, and a trial has checkpointed >= `num_to_keep` times since the last snapshot.\n",
      "You may want to consider increasing the `CheckpointConfig(num_to_keep)` or decreasing the frequency of saving checkpoints.\n",
      "You can suppress this warning by setting the environment variable TUNE_WARN_EXCESSIVE_EXPERIMENT_CHECKPOINT_SYNC_THRESHOLD_S to a smaller value than the current threshold (5.0). Set it to 0 to completely suppress this warning.\n",
      "2024-11-30 15:06:24,590\tWARNING experiment_state.py:206 -- Experiment state snapshotting has been triggered multiple times in the last 5.0 seconds and may become a bottleneck. A snapshot is forced if `CheckpointConfig(num_to_keep)` is set, and a trial has checkpointed >= `num_to_keep` times since the last snapshot.\n",
      "You may want to consider increasing the `CheckpointConfig(num_to_keep)` or decreasing the frequency of saving checkpoints.\n",
      "You can suppress this warning by setting the environment variable TUNE_WARN_EXCESSIVE_EXPERIMENT_CHECKPOINT_SYNC_THRESHOLD_S to a smaller value than the current threshold (5.0). Set it to 0 to completely suppress this warning.\n",
      "2024-11-30 15:07:19,326\tWARNING experiment_state.py:206 -- Experiment state snapshotting has been triggered multiple times in the last 5.0 seconds and may become a bottleneck. A snapshot is forced if `CheckpointConfig(num_to_keep)` is set, and a trial has checkpointed >= `num_to_keep` times since the last snapshot.\n",
      "You may want to consider increasing the `CheckpointConfig(num_to_keep)` or decreasing the frequency of saving checkpoints.\n",
      "You can suppress this warning by setting the environment variable TUNE_WARN_EXCESSIVE_EXPERIMENT_CHECKPOINT_SYNC_THRESHOLD_S to a smaller value than the current threshold (5.0). Set it to 0 to completely suppress this warning.\n",
      "2024-11-30 15:08:03,173\tWARNING experiment_state.py:206 -- Experiment state snapshotting has been triggered multiple times in the last 5.0 seconds and may become a bottleneck. A snapshot is forced if `CheckpointConfig(num_to_keep)` is set, and a trial has checkpointed >= `num_to_keep` times since the last snapshot.\n",
      "You may want to consider increasing the `CheckpointConfig(num_to_keep)` or decreasing the frequency of saving checkpoints.\n",
      "You can suppress this warning by setting the environment variable TUNE_WARN_EXCESSIVE_EXPERIMENT_CHECKPOINT_SYNC_THRESHOLD_S to a smaller value than the current threshold (5.0). Set it to 0 to completely suppress this warning.\n",
      "2024-11-30 15:08:46,846\tWARNING experiment_state.py:206 -- Experiment state snapshotting has been triggered multiple times in the last 5.0 seconds and may become a bottleneck. A snapshot is forced if `CheckpointConfig(num_to_keep)` is set, and a trial has checkpointed >= `num_to_keep` times since the last snapshot.\n",
      "You may want to consider increasing the `CheckpointConfig(num_to_keep)` or decreasing the frequency of saving checkpoints.\n",
      "You can suppress this warning by setting the environment variable TUNE_WARN_EXCESSIVE_EXPERIMENT_CHECKPOINT_SYNC_THRESHOLD_S to a smaller value than the current threshold (5.0). Set it to 0 to completely suppress this warning.\n",
      "2024-11-30 15:08:46,857\tINFO tune.py:1009 -- Wrote the latest version of all result files and experiment state to '/Users/majid/Projects/nlp/GPT/ray_results/mlflow/TorchTrainer_2024-11-30_15-04-01' in 0.0074s.\n",
      "2024-11-30 15:08:46,862\tINFO tune.py:1041 -- Total run time: 283.48 seconds (283.44 seconds for the tuning loop).\n"
     ]
    }
   ],
   "source": [
    "results = tuner.fit()"
   ]
  },
  {
   "cell_type": "code",
   "execution_count": 40,
   "id": "ec878f46-00d3-412f-864f-0948f74a9803",
   "metadata": {},
   "outputs": [
    {
     "data": {
      "text/plain": [
       "ResultGrid<[\n",
       "  Result(\n",
       "    metrics={'epoch': 2, 'train_loss': 2.2041960158348086, 'val_loss': 2.1340403580665583, 'checkpoint_dir': '/var/folders/9p/9nbt0hzx4f71r06ht633_g4m0000gn/T/tmp_jj_cx8j'},\n",
       "    path='/Users/majid/Projects/nlp/GPT/ray_results/mlflow/TorchTrainer_2024-11-30_13-58-57/TorchTrainer_f59b5285_1_dropout_p=0.2000,lr=0.0003,n_train_steps=2000_2024-11-30_13-59-04',\n",
       "    filesystem='local',\n",
       "    checkpoint=Checkpoint(filesystem=local, path=/Users/majid/Projects/nlp/GPT/ray_results/mlflow/TorchTrainer_2024-11-30_13-58-57/TorchTrainer_f59b5285_1_dropout_p=0.2000,lr=0.0003,n_train_steps=2000_2024-11-30_13-59-04/checkpoint_000002)\n",
       "  ),\n",
       "  Result(\n",
       "    metrics={'epoch': 0, 'train_loss': 2.9107892299575546, 'val_loss': 2.5144367241859436, 'checkpoint_dir': '/var/folders/9p/9nbt0hzx4f71r06ht633_g4m0000gn/T/tmptx8q0_v_'},\n",
       "    path='/Users/majid/Projects/nlp/GPT/ray_results/mlflow/TorchTrainer_2024-11-30_13-58-57/TorchTrainer_e6732f18_2_dropout_p=0.6892,lr=0.0002,n_train_steps=1495_2024-11-30_13-59-06',\n",
       "    filesystem='local',\n",
       "    checkpoint=Checkpoint(filesystem=local, path=/Users/majid/Projects/nlp/GPT/ray_results/mlflow/TorchTrainer_2024-11-30_13-58-57/TorchTrainer_e6732f18_2_dropout_p=0.6892,lr=0.0002,n_train_steps=1495_2024-11-30_13-59-06/checkpoint_000000)\n",
       "  )\n",
       "]>"
      ]
     },
     "execution_count": 40,
     "metadata": {},
     "output_type": "execute_result"
    }
   ],
   "source": [
    "results"
   ]
  },
  {
   "cell_type": "code",
   "execution_count": 94,
   "id": "d5c320c7-386d-4a24-8170-87294606102e",
   "metadata": {},
   "outputs": [
    {
     "data": {
      "text/plain": [
       "Result(\n",
       "  metrics={'epoch': 2, 'train_loss': 2.2041960158348086, 'val_loss': 2.1340403580665583},\n",
       "  path='/Users/majid/Projects/nlp/GPT/ray_results/mlflow/TorchTrainer_2024-11-28_15-39-46/TorchTrainer_443d049c_1_dropout_p=0.2000,lr=0.0003,n_train_steps=2000_2024-11-28_15-39-47',\n",
       "  filesystem='local',\n",
       "  checkpoint=Checkpoint(filesystem=local, path=/Users/majid/Projects/nlp/GPT/ray_results/mlflow/TorchTrainer_2024-11-28_15-39-46/TorchTrainer_443d049c_1_dropout_p=0.2000,lr=0.0003,n_train_steps=2000_2024-11-28_15-39-47/checkpoint_000002)\n",
       ")"
      ]
     },
     "execution_count": 94,
     "metadata": {},
     "output_type": "execute_result"
    }
   ],
   "source": [
    "best_trial = results.get_best_result(metric=\"val_loss\", mode=\"min\")\n",
    "best_trial"
   ]
  },
  {
   "cell_type": "code",
   "execution_count": 107,
   "id": "4efda0be-103d-41b2-84a9-2d5e46a90b97",
   "metadata": {},
   "outputs": [
    {
     "name": "stdout",
     "output_type": "stream",
     "text": [
      " !$&'s kinndies rencirg thonuld wated and the a's vay, has arlome:\n",
      "If proceived.\n",
      "\n",
      "Dime to uste herepance youn I the Hend.\n",
      "\n",
      "Oxtapurr futaly,--\n",
      "And, thoos nor lay\n",
      "And gands nI; thy of dors.\n",
      "\n",
      "If to stling;\n",
      "Ay,\n",
      "That se anjum bitem:\n",
      "Celvul not you wors for he, a \n",
      "arunds, I tint prows,\n",
      "Too that ligh.\n",
      "\n",
      "HOOSTIA:\n"
     ]
    }
   ],
   "source": [
    "model = load_model_from_checkpoint((best_trial.checkpoint))\n",
    "generation = model.generate(torch.stack((torch.tensor([1, 2, 3, 4, 5]), torch.tensor([4, 2, 3, 5, 1, ])),dim=0), max_size=300)\n",
    "print(decode(generation[0].tolist()))"
   ]
  },
  {
   "cell_type": "code",
   "execution_count": 103,
   "id": "72f40f80-e163-4c8e-b8b2-3547f81d5b6a",
   "metadata": {},
   "outputs": [
    {
     "ename": "RuntimeError",
     "evalue": "stack expects each tensor to be equal size, but got [5] at entry 0 and [6] at entry 1",
     "output_type": "error",
     "traceback": [
      "\u001b[0;31m---------------------------------------------------------------------------\u001b[0m",
      "\u001b[0;31mRuntimeError\u001b[0m                              Traceback (most recent call last)",
      "Cell \u001b[0;32mIn[103], line 1\u001b[0m\n\u001b[0;32m----> 1\u001b[0m \u001b[43mtorch\u001b[49m\u001b[38;5;241;43m.\u001b[39;49m\u001b[43mstack\u001b[49m\u001b[43m(\u001b[49m\u001b[43m(\u001b[49m\u001b[43mtorch\u001b[49m\u001b[38;5;241;43m.\u001b[39;49m\u001b[43mtensor\u001b[49m\u001b[43m(\u001b[49m\u001b[43m[\u001b[49m\u001b[38;5;241;43m1\u001b[39;49m\u001b[43m,\u001b[49m\u001b[43m \u001b[49m\u001b[38;5;241;43m2\u001b[39;49m\u001b[43m,\u001b[49m\u001b[43m \u001b[49m\u001b[38;5;241;43m3\u001b[39;49m\u001b[43m,\u001b[49m\u001b[43m \u001b[49m\u001b[38;5;241;43m4\u001b[39;49m\u001b[43m,\u001b[49m\u001b[43m \u001b[49m\u001b[38;5;241;43m5\u001b[39;49m\u001b[43m]\u001b[49m\u001b[43m)\u001b[49m\u001b[43m,\u001b[49m\u001b[43m \u001b[49m\u001b[43mtorch\u001b[49m\u001b[38;5;241;43m.\u001b[39;49m\u001b[43mtensor\u001b[49m\u001b[43m(\u001b[49m\u001b[43m[\u001b[49m\u001b[38;5;241;43m4\u001b[39;49m\u001b[43m,\u001b[49m\u001b[43m \u001b[49m\u001b[38;5;241;43m2\u001b[39;49m\u001b[43m,\u001b[49m\u001b[43m \u001b[49m\u001b[38;5;241;43m3\u001b[39;49m\u001b[43m,\u001b[49m\u001b[43m \u001b[49m\u001b[38;5;241;43m5\u001b[39;49m\u001b[43m,\u001b[49m\u001b[43m \u001b[49m\u001b[38;5;241;43m1\u001b[39;49m\u001b[43m,\u001b[49m\u001b[43m \u001b[49m\u001b[38;5;241;43m6\u001b[39;49m\u001b[43m]\u001b[49m\u001b[43m)\u001b[49m\u001b[43m)\u001b[49m\u001b[43m,\u001b[49m\u001b[43mdim\u001b[49m\u001b[38;5;241;43m=\u001b[39;49m\u001b[38;5;241;43m1\u001b[39;49m\u001b[43m)\u001b[49m\n",
      "\u001b[0;31mRuntimeError\u001b[0m: stack expects each tensor to be equal size, but got [5] at entry 0 and [6] at entry 1"
     ]
    }
   ],
   "source": [
    "best_trial.checkpoint."
   ]
  },
  {
   "cell_type": "markdown",
   "id": "ccf4c5f7-ec39-434c-bcc1-30413003b42b",
   "metadata": {},
   "source": [
    "## Serve"
   ]
  },
  {
   "cell_type": "markdown",
   "id": "4c076c0f-b785-4e71-a646-797d2bd32897",
   "metadata": {},
   "source": [
    "### batch"
   ]
  },
  {
   "cell_type": "code",
   "execution_count": 32,
   "id": "ebdafb8b-ceaa-411c-be04-a215a3404ae9",
   "metadata": {},
   "outputs": [],
   "source": [
    "def load_model_from_checkpoint(checkpoint):\n",
    "    model = GPT(train_config['n_heads'], train_config['n_blocks'], 65, n_embed=32)\n",
    "    model_state = torch.load(checkpoint.path+\"/model.pt\", map_location='cpu', weights_only=True)\n",
    "    model.load_state_dict(model_state['model_state_dict'])\n",
    "    return model"
   ]
  },
  {
   "cell_type": "code",
   "execution_count": 76,
   "id": "55b0ef63-29b2-4fc6-9236-e12d7b5bbdcc",
   "metadata": {},
   "outputs": [],
   "source": [
    "class LLM:\n",
    "    def __init__(self, checkpoint):\n",
    "        self.gpt = load_model_from_checkpoint(checkpoint)\n",
    "    def __call__(self, prompts):\n",
    "        maxlen = len(max(prompts, key=lambda x: len(x)))\n",
    "        for i, prompt in enumerate(prompts):\n",
    "            prompts[i] = prompts[i] + ' '*(maxlen-len(prompt))\n",
    "        \n",
    "        prompts_encoded = [encode(prompt) for prompt in prompts]\n",
    "        inputs = torch.tensor(prompts_encoded, dtype=torch.long)\n",
    "        generations = self.gpt.generate(inputs)\n",
    "        generations = generations.tolist()\n",
    "        generations = [decode(generation) for generation in generations]\n",
    "        return generations"
   ]
  },
  {
   "cell_type": "code",
   "execution_count": 77,
   "id": "5da093bd-b5c0-437f-8cd5-4af6fdd00dd6",
   "metadata": {},
   "outputs": [
    {
     "data": {
      "text/plain": [
       "[\"ncyreibfuk3qiw sdujblerpeaon to is will you, theler Analt\\nMy, to is dowAy com't not wite ard pow linetty, bocht's let'l\",\n",
       " \"diuasyfbwis        tharnd this loling enteservord\\nHes of shall and his sto be bre with--\\nChard buch,\\nSt my thy com's a \",\n",
       " \"dxywuqe dwb !.Sl:  Gard woudle busr, hild.\\n\\nBUSIXET:\\n3orm.\\nWhath his I her have shood' ks?\\n\\n'ANTUS:\\nSir. GLANWES:\\nBut I\"]"
      ]
     },
     "execution_count": 77,
     "metadata": {},
     "output_type": "execute_result"
    }
   ],
   "source": [
    "best_results = results.get_best_result(metric=\"val_loss\", mode=\"min\")\n",
    "shakesgpt = LLM(best_results.checkpoint)\n",
    "shakesgpt([\"ncyreibfuk3qiw sduj\", \"diuasyfbwis\", \"dxywuqe dwb !.Sl:\"])"
   ]
  },
  {
   "cell_type": "markdown",
   "id": "5f3af5fb-55b5-4691-960b-f656c25baa4e",
   "metadata": {},
   "source": [
    "### online"
   ]
  },
  {
   "cell_type": "code",
   "execution_count": 140,
   "id": "e200b083-9a46-407f-8cb5-2c7a4569a627",
   "metadata": {},
   "outputs": [],
   "source": [
    "from fastapi import FastAPI\n",
    "from ray import serve\n",
    "import requests\n",
    "import logging\n",
    "from starlette.requests import Request\n",
    "\n",
    "logger = logging.getLogger(\"ray.serve\")"
   ]
  },
  {
   "cell_type": "code",
   "execution_count": 141,
   "id": "e4dfdd3a-2d2b-491d-8685-a183bfaa4880",
   "metadata": {},
   "outputs": [],
   "source": [
    "app = FastAPI(\n",
    "    title=\"gpt completion\",\n",
    "    description=\"Tries to produce shakespeare off of your input\",\n",
    "    version=\"0.1\")"
   ]
  },
  {
   "cell_type": "code",
   "execution_count": 142,
   "id": "5a382cf4-06f5-46b4-bac5-5c9ccc18f69f",
   "metadata": {},
   "outputs": [],
   "source": [
    "@serve.deployment(num_replicas=\"1\", ray_actor_options={\"num_cpus\": 8, \"num_gpus\": 0})\n",
    "@serve.ingress(app)\n",
    "class servedGPT:\n",
    "    def __init__(self, checkpoint):\n",
    "        self.checkpoint = checkpoint\n",
    "        self.model = load_model_from_checkpoint(checkpoint)\n",
    "        \n",
    "    \n",
    "    @app.get(\"/\")\n",
    "    async def _sayHi(self, request: Request):\n",
    "        logging.info(\"YOur LLM application started\")\n",
    "        return \"200, ok!\"\n",
    "        \n",
    "    @app.post(\"/predict/\")\n",
    "    async def _predict(self, request: Request):\n",
    "        logger.warning(f\"this is your stupid {request}\")\n",
    "        data = await request.json()\n",
    "        logger.info(f\"your request data looks like this: {data}\")\n",
    "        prompt = data[\"prompt\"]\n",
    "        logger.info(f\"your prompt is: {prompt}\")\n",
    "        encoded_prompt = encode(prompt)\n",
    "        input_tensor = torch.tensor([encoded_prompt], dtype=torch.long) # shape 1*T\n",
    "        generation = self.model.generate(input_tensor)\n",
    "        return decode(generation[0].tolist())"
   ]
  },
  {
   "cell_type": "code",
   "execution_count": 143,
   "id": "c111371b-a17d-4f18-a094-cb77038280bb",
   "metadata": {},
   "outputs": [
    {
     "name": "stderr",
     "output_type": "stream",
     "text": [
      "INFO 2024-11-30 18:31:09,884 serve 48837 api.py:239 - Started Serve in namespace \"serve\".\n",
      "INFO 2024-11-30 18:31:12,021 serve 48837 client.py:312 - Application 'default' is ready at http://127.0.0.1:8000/.\n",
      "INFO 2024-11-30 18:31:12,022 serve 48837 api.py:502 - Deployed app 'default' successfully.\n"
     ]
    },
    {
     "data": {
      "text/plain": [
       "DeploymentHandle(deployment='servedGPT')"
      ]
     },
     "execution_count": 143,
     "metadata": {},
     "output_type": "execute_result"
    }
   ],
   "source": [
    "serve.run(servedGPT.bind(checkpoint=best_results.checkpoint))"
   ]
  },
  {
   "cell_type": "code",
   "execution_count": 133,
   "id": "1b9d6813-b9e0-4ec4-ad7c-57235439c136",
   "metadata": {},
   "outputs": [
    {
     "data": {
      "text/plain": [
       "<Response [200]>"
      ]
     },
     "execution_count": 133,
     "metadata": {},
     "output_type": "execute_result"
    }
   ],
   "source": [
    "requests.get(\"http://127.0.0.1:8000/\")"
   ]
  },
  {
   "cell_type": "code",
   "execution_count": 144,
   "id": "f78f065e-dbf4-4e7e-acf1-85d0ce109967",
   "metadata": {
    "scrolled": true
   },
   "outputs": [
    {
     "data": {
      "text/plain": [
       "\"hi this is the fist sentenceyge h.\\n\\nTHAS LOLIZ:\\nHan in Ceoth mooyst everes ught,\\nBart will pleds, Cillany cotne? caffart's the's\""
      ]
     },
     "execution_count": 144,
     "metadata": {},
     "output_type": "execute_result"
    }
   ],
   "source": [
    "import json\n",
    "json_data = json.dumps({\"prompt\": \"hi this is the fist sentence\"})\n",
    "requests.post(\"http://127.0.0.1:8000/predict/\", data=json_data).json()"
   ]
  },
  {
   "cell_type": "code",
   "execution_count": 146,
   "id": "ab5f32a4-9237-420e-b743-6b81e49398c1",
   "metadata": {},
   "outputs": [
    {
     "name": "stderr",
     "output_type": "stream",
     "text": [
      "INFO 2024-11-30 19:24:43,112 serve 48837 api.py:121 - Nothing to shut down. There's no Serve application running on this Ray cluster.\n"
     ]
    }
   ],
   "source": [
    "serve.shutdown()"
   ]
  },
  {
   "cell_type": "code",
   "execution_count": null,
   "id": "a90ef34e-d967-4148-a590-c674ab2fb3d8",
   "metadata": {},
   "outputs": [],
   "source": [
    "se"
   ]
  }
 ],
 "metadata": {
  "kernelspec": {
   "display_name": "Python 3 (ipykernel)",
   "language": "python",
   "name": "python3"
  },
  "language_info": {
   "codemirror_mode": {
    "name": "ipython",
    "version": 3
   },
   "file_extension": ".py",
   "mimetype": "text/x-python",
   "name": "python",
   "nbconvert_exporter": "python",
   "pygments_lexer": "ipython3",
   "version": "3.10.11"
  }
 },
 "nbformat": 4,
 "nbformat_minor": 5
}
